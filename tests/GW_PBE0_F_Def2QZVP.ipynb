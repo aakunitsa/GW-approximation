{
 "cells": [
  {
   "cell_type": "markdown",
   "metadata": {},
   "source": [
    "## Contour deformation \n",
    "\n",
    "In the context of GW method, contour deformation (CD) technique is used in conjunction with resolution of identity (RI) to reduce the formal scaling of the self-energy calculation. Compared to widely used analytic continuation approach it provides a means to evaluate self-energy  directly on the real axis without employing Pade approximants or non-linear least squares fit and potentially offering superior accuracy. Here, we provide a brief outline of the theory behind CD and give an example of the self-energy calculation within CD without invoking RI in order to facilitate comparison with the results prsented above. \n",
    "\n",
    "Detailed discussion of the CD can be found in the following papers:\n",
    "\n",
    "1. Golze, D., Wilhelm, J., van Setten, M. J., & Rinke, P. (2018). Core-Level Binding Energies from GW : An Efficient Full-Frequency Approach within a Localized Basis. Journal of Chemical Theory and Computation, 14(9), 4856–4869. https://doi.org/10.1021/acs.jctc.8b00458\n",
    "\n",
    "2. Giantomassi, M., Stankovski, M., Shaltaf, R., Grüning, M., Bruneval, F., Rinke, P., & Rignanese, G.-M. (2011). Electronic properties of interfaces and defects from many-body perturbation theory: Recent developments and applications. Physica Status Solidi (B), 248(2), 275–289. https://doi.org/10.1002/pssb.201046094"
   ]
  },
  {
   "cell_type": "markdown",
   "metadata": {},
   "source": [
    "CD is used to recast the convolution in the GW expression of self-energy as a difference between two integrals, one which can be performed analytically whereas the other can be evaluated numerically on a relatively small grid. This is achieved by closing the inegration contour as shown below [2]:\n",
    "\n",
    "![Integration contour used to evaluate $\\Sigma(\\omega)$](CD_scheme.jpg)\n",
    "\n",
    "$$\n",
    "\\Sigma(r_1,r_2, \\omega) = \\frac{i}{2\\pi} \\int_{-\\infty}^{+\\infty} e^{i\\omega^{\\prime} \\eta} G(r_1, r_2, \\omega + \\omega^{\\prime}) W(r_1, r_2, \\omega^{\\prime}) d\\omega^{\\prime}\\\\ \n",
    "= \\frac{i}{2\\pi} \\oint_{\\Gamma} G(r_1, r_2, \\omega + z) W(r_1, r_2, z) dz -  \\frac{1}{2\\pi} \\int_{-\\infty}^{+\\infty} G(r_1, r_2, \\omega + i\\omega^{\\prime}) W(r_1, r_2, i\\omega^{\\prime}) d\\omega^{\\prime}\n",
    "$$\n",
    "\n",
    "Depending on the $\\omega$ value the lower-left and the upper-right loops of the contour can enclose one or several poles of the zero-order Green's function whereas the poles of the screened Coulomb interaction never fall within the contour. This allowes to evaluate the countour integral as a sum of corresponding residues with apropriate signs (note that the upper-right loop is traversed counter-clockwise, while the lower-left loop is traversed clockwise). The imaginary axis contribution is calculated using Gauss-Legendre grid. Importantly, the intgrals over the arches vanish iff the screened Coulomb interaction does not contain the exchange contribution."
   ]
  },
  {
   "cell_type": "code",
   "execution_count": 3,
   "metadata": {},
   "outputs": [],
   "source": [
    "import psi4\n",
    "import numpy as np\n",
    "import scipy as sp\n",
    "from matplotlib import pyplot as plt\n",
    "%matplotlib inline"
   ]
  },
  {
   "cell_type": "code",
   "execution_count": 4,
   "metadata": {},
   "outputs": [
    {
     "data": {
      "text/html": [
       "<style>.container {width:95% !important;}</style>"
      ],
      "text/plain": [
       "<IPython.core.display.HTML object>"
      ]
     },
     "metadata": {},
     "output_type": "display_data"
    }
   ],
   "source": [
    "from IPython.core.display import display, HTML\n",
    "\n",
    "display(HTML(\"<style>.container {width:95% !important;}</style>\"))\n"
   ]
  },
  {
   "cell_type": "code",
   "execution_count": 9,
   "metadata": {},
   "outputs": [],
   "source": [
    "psi4.set_options({'basis' : 'def2-qzvp', 'd_convergence' : 1e-7,'scf_type' : 'out_of_core', 'dft_spherical_points' : 974, 'dft_radial_points' : 150 })\n",
    "\n",
    "f_an = psi4.geometry(\"\"\"\n",
    "-1 1\n",
    "F  0.0000000 0.0000000 0.0000000\n",
    "symmetry c1\n",
    "units angstrom\n",
    "\"\"\")"
   ]
  },
  {
   "cell_type": "code",
   "execution_count": 10,
   "metadata": {},
   "outputs": [
    {
     "name": "stdout",
     "output_type": "stream",
     "text": [
      "DFT energy is   -99.7913248297\n",
      "[-6.61063829e+02 -1.91757194e+01  5.50682920e-01  5.50682920e-01\n",
      "  5.50682920e-01  1.73895088e+01  1.73895088e+01  1.73895088e+01\n",
      "  2.36183815e+01  4.84673997e+01  4.84673997e+01  4.84673997e+01\n",
      "  4.84673997e+01  4.84673997e+01  5.59565650e+01  5.59565650e+01\n",
      "  5.59565650e+01  1.05425387e+02  1.25110289e+02  1.25110289e+02\n",
      "  1.25110289e+02  1.25110289e+02  1.25110289e+02  1.25110289e+02\n",
      "  1.25110289e+02  1.46727320e+02  1.46727320e+02  1.46727320e+02\n",
      "  1.46727320e+02  1.46727320e+02  1.79389211e+02  1.79389211e+02\n",
      "  1.79389211e+02  3.23123047e+02  3.23123047e+02  3.23123047e+02\n",
      "  3.23123047e+02  3.23123047e+02  3.23123047e+02  3.23123047e+02\n",
      "  3.23123047e+02  3.23123047e+02  4.05960027e+02  4.09021063e+02\n",
      "  4.09021063e+02  4.09021063e+02  4.09021063e+02  4.09021063e+02\n",
      "  4.09021063e+02  4.09021063e+02  4.41261382e+02  4.41261382e+02\n",
      "  4.41261382e+02  4.41261382e+02  4.41261382e+02  1.46889599e+03\n",
      "  7.75090376e+03]\n"
     ]
    }
   ],
   "source": [
    "\n",
    "psi4.set_output_file('f_qzvp.out')\n",
    "\n",
    "scf_e, scf_wfn = psi4.energy('PBE0', return_wfn=True)\n",
    "\n",
    "print(\"DFT energy is %16.10f\" % scf_e)\n",
    "epsilon = np.asarray(scf_wfn.epsilon_a())\n",
    "print(epsilon*psi4.constants.hartree2ev)"
   ]
  },
  {
   "cell_type": "markdown",
   "metadata": {},
   "source": [
    "Note: MOLGW produces broken symmetry result in this case! \n",
    "```\n",
    "SCF Total Energy (Ha):      -99.5952223936\n",
    "```"
   ]
  },
  {
   "cell_type": "code",
   "execution_count": 11,
   "metadata": {},
   "outputs": [],
   "source": [
    "import GW"
   ]
  },
  {
   "cell_type": "code",
   "execution_count": 12,
   "metadata": {},
   "outputs": [
    {
     "name": "stdout",
     "output_type": "stream",
     "text": [
      "Number of basis functions:  57\n",
      "occ/virt: 5/52\n",
      "Attempting to create RI basis set for DEF2-QZVP (RIFIT)... \n",
      "Auxiliary basis set has been generated!\n",
      "Number of auxiliary basis functions:  141\n",
      "Fraction of HF exchange is  0.250\n",
      "Running in production mode!\n",
      "Shape of the omega_grid_all is  (6, 501)\n",
      "Caculating GW self-energy via contour deformation\n",
      "Analytic W has been requested; performing RPA calculation\n",
      "Shape of omega tensor is  (57, 57, 260)\n",
      "Calculation of the integral term requires    0.065 Gb\n",
      "Calculation of the residue term requires     0.164 Gb\n",
      "Using low-memory algorithm\n",
      "Finished calculating self-energy\n",
      "Performing one-shot G0W0\n",
      "SigX - Vxc\n",
      "[-1.52769723 -0.37452517 -0.20517252 -0.20517252 -0.20517252  0.12305649]\n",
      "Perfoming graphic solution of the inverse Dyson equation\n",
      "Done!\n",
      "E^lin, eV  E^graph, eV  Z \n",
      "  -673.624921    -671.752177       0.698280\n",
      "   -22.471108     -22.219962       0.789146\n",
      "    -2.560128      -2.670420       0.875722\n",
      "    -2.718254      -2.670420       0.875722\n",
      "    -2.876380      -2.670420       0.875722\n",
      "    20.366006      20.346993       0.977927\n"
     ]
    }
   ],
   "source": [
    "# Analytic calculation for reference purposes\n",
    "gw_par = {'no_qp' : 5, 'nv_qp' : 1, 'nomega_sigma' : 501, 'step_sigma' : 0.01, 'analytic_W' : True, 'gl_npoint' : 200, 'low_mem' : True }\n",
    "gw_f = GW.GW_DFT(scf_wfn, f_an, gw_par)\n",
    "gw_f.print_summary()"
   ]
  },
  {
   "cell_type": "code",
   "execution_count": 13,
   "metadata": {},
   "outputs": [
    {
     "name": "stdout",
     "output_type": "stream",
     "text": [
      "Number of basis functions:  57\n",
      "occ/virt: 5/52\n",
      "Attempting to create RI basis set for DEF2-QZVP (RIFIT)... \n",
      "Auxiliary basis set has been generated!\n",
      "Number of auxiliary basis functions:  141\n",
      "Fraction of HF exchange is  0.000\n",
      "Running in production mode!\n",
      "Shape of the omega_grid_all is  (6, 501)\n",
      "Caculating GW self-energy via contour deformation\n",
      "Analytic W has been requested; performing RPA calculation\n",
      "Shape of omega tensor is  (57, 57, 260)\n",
      "Calculation of the integral term requires    0.065 Gb\n",
      "Calculation of the residue term requires     0.164 Gb\n",
      "Using low-memory algorithm\n",
      "Finished calculating self-energy\n",
      "Performing one-shot G0W0\n",
      "SigX - Vxc\n",
      "[-2.04637292 -0.51469157 -0.28584293 -0.28584293 -0.28584293  0.16130057]\n",
      "Perfoming graphic solution of the inverse Dyson equation\n",
      "Done!\n",
      "Number of basis functions:  57\n",
      "occ/virt: 5/52\n",
      "Attempting to create RI basis set for DEF2-QZVP (RIFIT)... \n",
      "Auxiliary basis set has been generated!\n",
      "Number of auxiliary basis functions:  141\n",
      "Fraction of HF exchange is  0.250\n",
      "Running in production mode!\n",
      "Shape of the omega_grid_all is  (6, 501)\n",
      "Caculating GW self-energy via contour deformation\n",
      "Analytic W has been requested; performing RPA calculation\n",
      "Shape of omega tensor is  (57, 57, 260)\n",
      "Calculation of the integral term requires    0.065 Gb\n",
      "Calculation of the residue term requires     0.164 Gb\n",
      "Using low-memory algorithm\n",
      "Finished calculating self-energy\n",
      "Performing one-shot G0W0\n",
      "SigX - Vxc\n",
      "[-1.52769723 -0.37452517 -0.20517252 -0.20517252 -0.20517252  0.12305649]\n",
      "Perfoming graphic solution of the inverse Dyson equation\n",
      "Done!\n",
      "Number of basis functions:  57\n",
      "occ/virt: 5/52\n",
      "Attempting to create RI basis set for DEF2-QZVP (RIFIT)... \n",
      "Auxiliary basis set has been generated!\n",
      "Number of auxiliary basis functions:  141\n",
      "Fraction of HF exchange is  0.500\n",
      "Running in production mode!\n",
      "Shape of the omega_grid_all is  (6, 501)\n",
      "Caculating GW self-energy via contour deformation\n",
      "Analytic W has been requested; performing RPA calculation\n",
      "Shape of omega tensor is  (57, 57, 260)\n",
      "Calculation of the integral term requires    0.065 Gb\n",
      "Calculation of the residue term requires     0.164 Gb\n",
      "Using low-memory algorithm\n",
      "Finished calculating self-energy\n",
      "Performing one-shot G0W0\n",
      "SigX - Vxc\n",
      "[-1.00830811 -0.23321386 -0.12269868 -0.12269868 -0.12269868  0.08600736]\n",
      "Perfoming graphic solution of the inverse Dyson equation\n",
      "Done!\n",
      "Number of basis functions:  57\n",
      "occ/virt: 5/52\n",
      "Attempting to create RI basis set for DEF2-QZVP (RIFIT)... \n",
      "Auxiliary basis set has been generated!\n",
      "Number of auxiliary basis functions:  141\n",
      "Fraction of HF exchange is  0.750\n",
      "Running in production mode!\n",
      "Shape of the omega_grid_all is  (6, 501)\n",
      "Caculating GW self-energy via contour deformation\n",
      "Analytic W has been requested; performing RPA calculation\n",
      "Shape of omega tensor is  (57, 57, 260)\n",
      "Calculation of the integral term requires    0.065 Gb\n",
      "Calculation of the residue term requires     0.164 Gb\n",
      "Using low-memory algorithm\n",
      "Finished calculating self-energy\n",
      "Performing one-shot G0W0\n",
      "SigX - Vxc\n",
      "[-0.48820556 -0.09077681 -0.03852271 -0.03852271 -0.03852271  0.04997128]\n",
      "Perfoming graphic solution of the inverse Dyson equation\n",
      "Done!\n",
      "Number of basis functions:  57\n",
      "occ/virt: 5/52\n",
      "Attempting to create RI basis set for DEF2-QZVP (RIFIT)... \n",
      "Auxiliary basis set has been generated!\n",
      "Number of auxiliary basis functions:  141\n",
      "Fraction of HF exchange is  1.000\n",
      "Running in production mode!\n",
      "Shape of the omega_grid_all is  (6, 501)\n",
      "Caculating GW self-energy via contour deformation\n",
      "Analytic W has been requested; performing RPA calculation\n",
      "Shape of omega tensor is  (57, 57, 260)\n",
      "Calculation of the integral term requires    0.065 Gb\n",
      "Calculation of the residue term requires     0.164 Gb\n",
      "Using low-memory algorithm\n",
      "Finished calculating self-energy\n",
      "Performing one-shot G0W0\n",
      "SigX - Vxc\n",
      "[0.03261078 0.05276574 0.04725469 0.04725469 0.04725469 0.01480607]\n",
      "Perfoming graphic solution of the inverse Dyson equation\n",
      "Done!\n"
     ]
    },
    {
     "data": {
      "text/plain": [
       "<matplotlib.legend.Legend at 0x7ff7489bb080>"
      ]
     },
     "execution_count": 13,
     "metadata": {},
     "output_type": "execute_result"
    },
    {
     "data": {
      "image/png": "[encoded data removed]",
      "text/plain": [
       "<Figure size 432x288 with 1 Axes>"
      ]
     },
     "metadata": {
      "needs_background": "light"
     },
     "output_type": "display_data"
    }
   ],
   "source": [
    "hf_xc  = np.array([0.0, 0.25, 0.5, 0.75, 1.0])\n",
    "homo_dft = []\n",
    "lumo_dft = []\n",
    "homo_gw = []\n",
    "lumo_gw = []\n",
    "\n",
    "ihomo = 4\n",
    "ilumo = 5\n",
    "\n",
    "for xc in hf_xc:\n",
    "    pbeh = {\n",
    "    \"name\": \"GOLZE_PBE\",\n",
    "    \"x_functionals\": {\"GGA_X_PBE\": {\"alpha\": 1. - xc}},\n",
    "    \"x_hf\": {\"alpha\": xc},\n",
    "    \"c_functionals\": {\"GGA_C_PBE\": {}} }\n",
    "    \n",
    "    scf_e, scf_wfn = psi4.energy('SCF', return_wfn=True, dft_functional=pbeh)\n",
    "    gw_par = {'no_qp' : 5, 'nv_qp' : 1, 'nomega_sigma' : 501, 'step_sigma' : 0.01, 'analytic_W' : True, 'gl_npoint' : 200, 'low_mem' : True }\n",
    "    gw_f = GW.GW_DFT(scf_wfn, f_an, gw_par)\n",
    "    \n",
    "    orb_e = np.asarray(scf_wfn.epsilon_a())\n",
    "    homo_dft.append(orb_e[ihomo]*psi4.constants.hartree2ev)\n",
    "    lumo_dft.append(orb_e[ilumo]*psi4.constants.hartree2ev)\n",
    "    \n",
    "    orb_e_gw = gw_f.qp_molgw_graph_\n",
    "    homo_gw.append(orb_e_gw[ihomo]*psi4.constants.hartree2ev)\n",
    "    lumo_gw.append(orb_e_gw[ilumo]*psi4.constants.hartree2ev)\n",
    "\n",
    "\n",
    "    \n",
    "plt.plot(hf_xc, homo_dft, 'x-', label='HOMO (PBE)')\n",
    "plt.plot(hf_xc, lumo_dft, 'x-', label='LUMO (PBE)')\n",
    "plt.plot(hf_xc, homo_gw, 'x-', label='HOMO (GW)')\n",
    "plt.plot(hf_xc, lumo_gw, 'x-', label='LUMO (GW)')\n",
    "#plt.plot(hf_xc, np.repeat(-7.9, 4), '--', label='Exp. IP' )\n",
    "#plt.plot(hf_xc, np.repeat(-0.342, 4), '--', label='Exp. EA' )\n",
    "\n",
    "plt.xlabel('Fraction of HF exchange')\n",
    "plt.ylabel('Orbital energy, eV')\n",
    "\n",
    "plt.legend()    \n",
    "    \n"
   ]
  },
  {
   "cell_type": "code",
   "execution_count": 14,
   "metadata": {},
   "outputs": [
    {
     "name": "stdout",
     "output_type": "stream",
     "text": [
      "Number of basis functions:  57\n",
      "occ/virt: 5/52\n",
      "Attempting to create RI basis set for DEF2-QZVP (RIFIT)... \n",
      "Auxiliary basis set has been generated!\n",
      "Number of auxiliary basis functions:  141\n",
      "Fraction of HF exchange is  0.250\n",
      "Running in production mode!\n",
      "Shape of the omega_grid_all is  (6, 501)\n",
      "Caculating GW self-energy via contour deformation\n",
      "Analytic W has been requested; performing RPA calculation\n",
      "Shape of omega tensor is  (57, 57, 260)\n",
      "Calculation of the integral term requires    0.065 Gb\n",
      "Calculation of the residue term requires     0.164 Gb\n",
      "Using low-memory algorithm\n",
      "Finished calculating self-energy\n",
      "Performing one-shot G0W0\n",
      "SigX - Vxc\n",
      "[-1.52769723 -0.37452517 -0.20517252 -0.20517252 -0.20517252  0.12305649]\n",
      "Perfoming graphic solution of the inverse Dyson equation\n",
      "Done!\n",
      "Starting evGW loop...\n",
      "Number of iterations is 10\n",
      "[-679.05243793  -23.3516088    -3.00159991   -3.18216666   -3.3627334\n",
      "   20.43318879]\n",
      "[-680.13923673  -23.95175779   -3.39724196   -3.40218463   -3.39142912\n",
      "   20.36266904]\n",
      "[-680.19046374  -23.94981398   -3.40221238   -3.41608146   -3.40304746\n",
      "   20.36298328]\n",
      "[-680.19249455  -23.95196396   -3.34872912   -3.41217651   -3.46134733\n",
      "   20.36294238]\n",
      "[-680.19256371  -23.95183284   -3.40561155   -3.41234624   -3.40428746\n",
      "   20.3629362 ]\n",
      "[-680.19263019  -23.95189574   -3.45702855   -3.41350832   -3.35180188\n",
      "   20.36296251]\n",
      "[-680.1926616   -23.95188863   -3.40369458   -3.41234797   -3.40628733\n",
      "   20.36298045]\n",
      "[-680.19263733  -23.95189751   -3.38085099   -3.41411684   -3.42735288\n",
      "   20.36296114]\n",
      "[-680.19259408  -23.95187286   -3.40504388   -3.41235755   -3.40486913\n",
      "   20.3629421 ]\n",
      "[-680.19263227  -23.95189438   -3.36951747   -3.4133275    -3.43956097\n",
      "   20.36296213]\n",
      "Done with evGW!\n",
      "E^lin, eV  E^graph, eV  Z \n",
      "  -673.624921    -671.752177       0.698280\n",
      "   -22.471108     -22.219962       0.789146\n",
      "    -2.560128      -2.670420       0.875722\n",
      "    -2.718254      -2.670420       0.875722\n",
      "    -2.876380      -2.670420       0.875722\n",
      "    20.366006      20.346993       0.977927\n"
     ]
    }
   ],
   "source": [
    "# evGW test \n",
    "scf_e, scf_wfn = psi4.energy('PBE0', return_wfn=True)\n",
    "gw_par = {'no_qp' : 5, 'nv_qp' : 1, 'nomega_sigma' : 501, 'step_sigma' : 0.01, 'analytic_W' : True, 'gl_npoint' : 200, 'low_mem' : True, 'evgw_iter' : 10 }\n",
    "gw_f = GW.GW_DFT(scf_wfn, f_an, gw_par)\n",
    "gw_f.print_summary()"
   ]
  },
  {
   "cell_type": "code",
   "execution_count": null,
   "metadata": {},
   "outputs": [],
   "source": []
  }
 ],
 "metadata": {
  "kernelspec": {
   "display_name": "Python 3",
   "language": "python",
   "name": "python3"
  },
  "language_info": {
   "codemirror_mode": {
    "name": "ipython",
    "version": 3
   },
   "file_extension": ".py",
   "mimetype": "text/x-python",
   "name": "python",
   "nbconvert_exporter": "python",
   "pygments_lexer": "ipython3",
   "version": "3.6.8"
  }
 },
 "nbformat": 4,
 "nbformat_minor": 2
}
