{
 "cells": [
  {
   "cell_type": "markdown",
   "metadata": {},
   "source": [
    "## Contour deformation \n",
    "\n",
    "In the context of GW method, contour deformation (CD) technique is used in conjunction with resolution of identity (RI) to reduce the formal scaling of the self-energy calculation. Compared to widely used analytic continuation approach it provides a means to evaluate self-energy  directly on the real axis without employing Pade approximants or non-linear least squares fit and potentially offering superior accuracy. Here, we provide a brief outline of the theory behind CD and give an example of the self-energy calculation within CD without invoking RI in order to facilitate comparison with the results prsented above. \n",
    "\n",
    "Detailed discussion of the CD can be found in the following papers:\n",
    "\n",
    "1. Golze, D., Wilhelm, J., van Setten, M. J., & Rinke, P. (2018). Core-Level Binding Energies from GW : An Efficient Full-Frequency Approach within a Localized Basis. Journal of Chemical Theory and Computation, 14(9), 4856–4869. https://doi.org/10.1021/acs.jctc.8b00458\n",
    "\n",
    "2. Giantomassi, M., Stankovski, M., Shaltaf, R., Grüning, M., Bruneval, F., Rinke, P., & Rignanese, G.-M. (2011). Electronic properties of interfaces and defects from many-body perturbation theory: Recent developments and applications. Physica Status Solidi (B), 248(2), 275–289. https://doi.org/10.1002/pssb.201046094"
   ]
  },
  {
   "cell_type": "markdown",
   "metadata": {},
   "source": [
    "CD is used to recast the convolution in the GW expression of self-energy as a difference between two integrals, one which can be performed analytically whereas the other can be evaluated numerically on a relatively small grid. This is achieved by closing the inegration contour as shown below [2]:\n",
    "\n",
    "![Integration contour used to evaluate $\\Sigma(\\omega)$](CD_scheme.jpg)\n",
    "\n",
    "$$\n",
    "\\Sigma(r_1,r_2, \\omega) = \\frac{i}{2\\pi} \\int_{-\\infty}^{+\\infty} e^{i\\omega^{\\prime} \\eta} G(r_1, r_2, \\omega + \\omega^{\\prime}) W(r_1, r_2, \\omega^{\\prime}) d\\omega^{\\prime}\\\\ \n",
    "= \\frac{i}{2\\pi} \\oint_{\\Gamma} G(r_1, r_2, \\omega + z) W(r_1, r_2, z) dz -  \\frac{1}{2\\pi} \\int_{-\\infty}^{+\\infty} G(r_1, r_2, \\omega + i\\omega^{\\prime}) W(r_1, r_2, i\\omega^{\\prime}) d\\omega^{\\prime}\n",
    "$$\n",
    "\n",
    "Depending on the $\\omega$ value the lower-left and the upper-right loops of the contour can enclose one or several poles of the zero-order Green's function whereas the poles of the screened Coulomb interaction never fall within the contour. This allowes to evaluate the countour integral as a sum of corresponding residues with apropriate signs (note that the upper-right loop is traversed counter-clockwise, while the lower-left loop is traversed clockwise). The imaginary axis contribution is calculated using Gauss-Legendre grid. Importantly, the intgrals over the arches vanish iff the screened Coulomb interaction does not contain the exchange contribution."
   ]
  },
  {
   "cell_type": "code",
   "execution_count": 1,
   "metadata": {},
   "outputs": [],
   "source": [
    "import psi4\n",
    "import numpy as np\n",
    "import scipy as sp\n",
    "from matplotlib import pyplot as plt\n",
    "%matplotlib inline"
   ]
  },
  {
   "cell_type": "code",
   "execution_count": 2,
   "metadata": {},
   "outputs": [
    {
     "data": {
      "text/html": [
       "<style>.container {width:95% !important;}</style>"
      ],
      "text/plain": [
       "<IPython.core.display.HTML object>"
      ]
     },
     "metadata": {},
     "output_type": "display_data"
    }
   ],
   "source": [
    "from IPython.core.display import display, HTML\n",
    "\n",
    "display(HTML(\"<style>.container {width:95% !important;}</style>\"))\n"
   ]
  },
  {
   "cell_type": "code",
   "execution_count": 3,
   "metadata": {},
   "outputs": [
    {
     "name": "stdout",
     "output_type": "stream",
     "text": [
      "DFT energy is    -2.8928225474\n",
      "[-15.74831893   7.47486413  22.72689859  22.72689859  22.72689859\n",
      "  51.49043714  95.11061037  95.11061037  95.11061037  95.11061037\n",
      "  95.11061037 116.71002742 116.71002742 116.71002742 256.25880273\n",
      " 300.00083801 300.00083801 300.00083801 300.00083801 300.00083801\n",
      " 300.00083801 300.00083801 420.64172788 420.64172788 420.64172788\n",
      " 420.64172788 420.64172788 461.58835865 461.58835865 461.58835865]\n"
     ]
    }
   ],
   "source": [
    "\n",
    "psi4.set_options({'basis' : 'def2-qzvp', 'd_convergence' : 1e-7,'scf_type' : 'out_of_core', 'dft_spherical_points' : 974, 'dft_radial_points' : 150 })\n",
    "\n",
    "he = psi4.geometry(\"\"\"He  0.0000 0.0000 0.0000\n",
    "                       symmetry c1\n",
    "                       units angstrom\n",
    "\"\"\")\n",
    "\n",
    "\n",
    "\n",
    "psi4.set_output_file('he_qzvp.out')\n",
    "\n",
    "scf_e, scf_wfn = psi4.energy('PBE', return_wfn=True)\n",
    "\n",
    "\n",
    "print(\"DFT energy is %16.10f\" % scf_e)\n",
    "epsilon = np.asarray(scf_wfn.epsilon_a())\n",
    "print(epsilon*psi4.constants.hartree2ev)"
   ]
  },
  {
   "cell_type": "markdown",
   "metadata": {},
   "source": [
    "``` SCF Total Energy (Ha):      -2.8928225473 (MOLGW) ```"
   ]
  },
  {
   "cell_type": "code",
   "execution_count": 4,
   "metadata": {},
   "outputs": [],
   "source": [
    "import GW"
   ]
  },
  {
   "cell_type": "code",
   "execution_count": 5,
   "metadata": {},
   "outputs": [
    {
     "name": "stdout",
     "output_type": "stream",
     "text": [
      "Number of basis functions:  30\n",
      "occ/virt: 1/29\n",
      "Attempting to create RI basis set for DEF2-QZVP (RIFIT)... \n",
      "Auxiliary basis set has been generated!\n",
      "Number of auxiliary basis functions:  47\n",
      "Fraction of HF exchange is  0.000\n",
      "Running in production mode!\n",
      "Shape of the omega_grid_all is  (2, 501)\n",
      "Caculating GW self-energy via contour deformation\n",
      "Analytic W has been requested; performing RPA calculation\n",
      "Shape of omega tensor is  (30, 30, 29)\n",
      "Calculation of the integral term requires    0.007 Gb\n",
      "Calculation of the residue term requires     0.018 Gb\n",
      "Using low-memory algorithm\n",
      "Finished calculating self-energy\n",
      "Performing one-shot G0W0\n",
      "SigX - Vxc\n",
      "[-0.34438168  0.13933937]\n",
      "Perfoming graphic solution of the inverse Dyson equation\n",
      "Done!\n",
      "E^lin, eV  E^graph, eV  Z \n",
      "   -23.672423     -23.476796       0.913907\n",
      "    11.007629      11.006144       0.989647\n",
      "GW calculation took       0.29 s\n"
     ]
    }
   ],
   "source": [
    "import time \n",
    "start = time.time()\n",
    "# Analytic calculation for reference purposes\n",
    "gw_par = {'no_qp' : 1, 'nv_qp' : 1, 'nomega_sigma' : 501, 'step_sigma' : 0.01, 'gl_npoint' : 200, 'analytic_W' : True, 'low_mem' : True }\n",
    "gw_he_test = GW.GW_DFT(scf_wfn, he, gw_par)\n",
    "gw_he_test.print_summary()\n",
    "end = time.time()\n",
    "print(\"GW calculation took %10.2f s\" % (end - start))"
   ]
  },
  {
   "cell_type": "markdown",
   "metadata": {},
   "source": [
    "```\n",
    " GW eigenvalues (eV)\n",
    "   #        E0         SigX-Vxc       SigC          Z        E_qp^lin     E_qp^graph\n",
    "   1    -15.748327    -9.371124     0.703643     0.913908   -23.669607   -23.477018\n",
    "   2      7.474860     3.791494    -0.221863     0.989658    11.007575    11.006253\n",
    "\n",
    "```"
   ]
  },
  {
   "cell_type": "code",
   "execution_count": 8,
   "metadata": {},
   "outputs": [
    {
     "name": "stdout",
     "output_type": "stream",
     "text": [
      "Number of basis functions:  30\n",
      "occ/virt: 1/29\n",
      "Attempting to create RI basis set for DEF2-QZVP (RIFIT)... \n",
      "Auxiliary basis set has been generated!\n",
      "Number of auxiliary basis functions:  47\n",
      "Fraction of HF exchange is  0.000\n",
      "Running in production mode!\n",
      "Shape of the omega_grid_all is  (2, 501)\n",
      "Caculating GW self-energy via contour deformation\n",
      "Analytic W has been requested; performing RPA calculation\n",
      "Shape of omega tensor is  (30, 30, 29)\n",
      "Calculation of the integral term requires    0.007 Gb\n",
      "Calculation of the residue term requires     0.018 Gb\n",
      "Using low-memory algorithm\n",
      "Finished calculating self-energy\n",
      "Performing one-shot G0W0\n",
      "SigX - Vxc\n",
      "[-0.34438168  0.13933937]\n",
      "Perfoming graphic solution of the inverse Dyson equation\n",
      "Done!\n",
      "Starting evGW loop...\n",
      "Number of iterations is 5\n",
      "[-24.41890341  11.0445867 ]\n",
      "[-24.78199102  11.01775848]\n",
      "[-24.78746376  11.01765715]\n",
      "[-24.78755384  11.01765458]\n",
      "[-24.7875553   11.01765454]\n",
      "Done with evGW!\n",
      "E^lin, eV  E^graph, eV  Z \n",
      "   -23.672423     -23.476796       0.913907\n",
      "    11.007629      11.006144       0.989647\n",
      "GW calculation took       1.27 s\n"
     ]
    }
   ],
   "source": [
    "start = time.time()\n",
    "# Analytic calculation for reference purposes\n",
    "gw_par = {'no_qp' : 1, 'nv_qp' : 1, 'nomega_sigma' : 501, 'step_sigma' : 0.01, 'gl_npoint' : 200, 'analytic_W' : True, 'low_mem' : True, 'evgw_iter' : 5 }\n",
    "gw_he_test_ev = GW.GW_DFT(scf_wfn, he, gw_par)\n",
    "gw_he_test_ev.print_summary()\n",
    "end = time.time()\n",
    "print(\"GW calculation took %10.2f s\" % (end - start))"
   ]
  },
  {
   "cell_type": "code",
   "execution_count": 9,
   "metadata": {},
   "outputs": [
    {
     "name": "stdout",
     "output_type": "stream",
     "text": [
      "Number of basis functions:  30\n",
      "occ/virt: 1/29\n",
      "Attempting to create RI basis set for DEF2-QZVP (RIFIT)... \n",
      "Auxiliary basis set has been generated!\n",
      "Number of auxiliary basis functions:  47\n",
      "Fraction of HF exchange is  0.000\n",
      "Running in production mode!\n",
      "Shape of the omega_grid_all is  (30, 501)\n",
      "Caculating GW self-energy via contour deformation\n",
      "Analytic W has been requested; performing RPA calculation\n",
      "Shape of omega tensor is  (30, 30, 29)\n",
      "Calculation of the integral term requires    0.007 Gb\n",
      "Calculation of the residue term requires     0.018 Gb\n",
      "Using low-memory algorithm\n",
      "Finished calculating self-energy\n",
      "Performing one-shot G0W0\n",
      "SigX - Vxc\n",
      "[-0.34438168  0.13933937  0.25006238  0.25006238  0.25006238  0.3270321\n",
      "  0.38471001  0.38471001  0.38471001  0.38471001  0.38471001  0.47563179\n",
      "  0.47563179  0.47563179  0.78111999  0.55286242  0.55286242  0.55286242\n",
      "  0.55286242  0.55286242  0.55286242  0.55286242  0.72129897  0.72129897\n",
      "  0.72129897  0.72129897  0.72129897  0.83403239  0.83403239  0.83403239]\n",
      "Perfoming graphic solution of the inverse Dyson equation\n",
      "Done!\n",
      "Starting evGW loop...\n",
      "Number of iterations is 10\n",
      "[-24.41890341  11.0445867   28.73890778  28.69138564  28.64386351\n",
      "  57.88321554 104.91874594 104.87302443 104.86436722 104.81342579\n",
      " 104.78179902 127.01846037 126.93992043 126.86138048 509.20697787\n",
      " 313.52227398 313.48209953 313.45074493 313.3577269  313.35549214\n",
      " 313.32735882 313.31501685 433.66232422 433.65510059 433.5493332\n",
      " 433.53431697 433.49684295 474.45030506 474.38809037 474.32587569]\n",
      "[-24.65083547  11.0582413   28.81836693  28.81859688  28.81883336\n",
      "  59.13105718 105.57086226 105.56824172 105.57263845 105.57667118\n",
      " 105.5753895  128.37780648 128.38341217 128.40840304 270.69956074\n",
      " 314.06980141 314.07011262 314.07111701 314.07788864 314.0672946\n",
      " 314.07282475 314.0729318  435.71816671 435.71784031 435.7218723\n",
      " 435.72097926 435.72346503 477.53289125 477.53663413 477.53840643]\n",
      "[-24.7054671   11.04320417  28.81940548  28.82055338  28.82287725\n",
      "  58.96494183 105.56257208 105.55645838 105.56125505 105.57285725\n",
      " 105.56049829 128.37634814 128.37749572 128.37259459 271.25077773\n",
      " 314.08594267 314.08875712 314.0915675  314.09947909 314.08935755\n",
      " 314.11908773 314.11989662 435.77210495 435.77423522 435.77909958\n",
      " 435.7866505  435.79956971 478.43164808 478.42504407 478.45061966]\n",
      "[-24.70556101  11.04317803  28.80442936  28.8278072   28.83095743\n",
      "  58.98246636 105.57999376 105.56643533 105.57708775 105.56699456\n",
      " 105.54824596 128.34502334 128.38899138 128.35856193 271.21552767\n",
      " 314.09491527 314.09522678 314.10610548 314.10024312 314.10554266\n",
      " 314.09924043 314.10067606 435.78427414 435.78561291 435.7870688\n",
      " 435.78548833 435.78498776 478.40868569 478.40815534 478.40715069]\n",
      "[-24.70561987  11.04317832  28.82118386  28.81722499  28.82484114\n",
      "  58.98099906 105.56772785 105.56042241 105.56431624 105.57512362\n",
      " 105.56947288 128.37233525 128.3659264  128.36707994 271.21702324\n",
      " 314.0979847  314.09667521 314.10631883 314.10255593 314.09621473\n",
      " 314.10026842 314.10149906 435.7476855  435.76629182 435.81646238\n",
      " 435.82307733 435.77228255 478.43704892 478.41624688 478.37366981]\n",
      "[-24.70560916  11.04318071  28.82055878  28.81891936  28.82377428\n",
      "  58.98113259 105.56064552 105.56632439 105.56713225 105.56727719\n",
      " 105.57589174 128.36827365 128.34491913 128.38962369 271.21742583\n",
      " 314.1063246  314.09401126 314.10298196 314.10508825 314.0865451\n",
      " 314.1061988  314.10073682 435.78654074 435.78553546 435.78418956\n",
      " 435.78406311 435.78611229 478.4081535  478.40813306 478.41072755]\n",
      "[-24.70561088  11.0431802   28.82832641  28.80917025  28.82575774\n",
      "  58.98112023 105.5670146  105.54660582 105.5839621  105.57277749\n",
      " 105.56689364 128.3673393  128.37158158 128.36433922 271.21729021\n",
      " 314.11499672 314.10026671 314.10026286 314.08245738 314.10047177\n",
      " 314.11369347 314.08966237 435.80874309 435.80604241 435.74998888\n",
      " 435.75623209 435.80532201 478.37455138 478.42746242 478.4250073 ]\n",
      "[-24.7056106   11.04318029  28.82685878  28.82114426  28.8152488\n",
      "  58.98112127 105.55780611 105.56875488 105.56686971 105.56762026\n",
      " 105.57620258 128.37039716 128.37089876 128.36187991 271.21732267\n",
      " 314.10877491 314.09904614 314.10867014 314.10041406 314.09315734\n",
      " 314.09125053 314.10051193 435.78825079 435.79487949 435.78637131\n",
      " 435.78617629 435.77065381 478.41025768 478.41734281 478.39940599]\n",
      "[-24.70561066  11.04318027  28.82156742  28.82101273  28.82067069\n",
      "  58.98112126 105.56842064 105.58543188 105.55254514 105.56416344\n",
      " 105.56669009 128.35449342 128.37940544 128.36930095 271.21731668\n",
      " 314.08699238 314.07410792 314.11339008 314.11660824 314.10372303\n",
      " 314.09662478 314.11037941 435.80762276 435.78502936 435.77267728\n",
      " 435.77525922 435.78574065 478.40862393 478.40885406 478.40952926]\n",
      "[-24.70561064  11.04318028  28.84399054  28.81315709  28.80613009\n",
      "  58.98112132 105.57674308 105.56625104 105.56846213 105.56248754\n",
      " 105.56329971 128.36975589 128.36590184 128.36752627 271.21731693\n",
      " 314.10039595 314.100605   314.10471623 314.10134856 314.10015815\n",
      " 314.10033754 314.09424515 435.78451412 435.77417553 435.78470709\n",
      " 435.7867384  435.79619424 478.39661471 478.3859888  478.4444256 ]\n",
      "Done with evGW!\n",
      "E^lin, eV  E^graph, eV  Z \n",
      "   -23.672423     -23.476796       0.913907\n",
      "    11.007629      11.006144       0.989647\n",
      "    28.619696      28.551507       0.980171\n",
      "    28.573116      28.551507       0.980171\n",
      "    28.526536      28.551507       0.980171\n",
      "    57.132417      56.894613       0.882555\n",
      "   104.402392     104.264800       0.947354\n",
      "   104.359077     104.264800       0.947354\n",
      "   104.350876     104.264800       0.947354\n",
      "   104.302616     104.264800       0.947354\n",
      "   104.272654     104.264800       0.947354\n",
      "   125.936431     125.599591       0.895034\n",
      "   125.866135     125.599591       0.895034\n",
      "   125.795839     125.599591       0.895034\n",
      "   256.258803     268.449962       0.000000\n",
      "   312.606476     311.978076       0.932271\n",
      "   312.569022     311.978076       0.932271\n",
      "   312.539791     311.978076       0.932271\n",
      "   312.453073     311.978076       0.932271\n",
      "   312.450990     311.978076       0.932271\n",
      "   312.424762     311.978076       0.932271\n",
      "   312.413256     311.978076       0.932271\n",
      "   431.055680     429.687291       0.799806\n",
      "   431.049902     429.687291       0.799806\n",
      "   430.965309     429.687291       0.799806\n",
      "   430.953299     429.687291       0.799806\n",
      "   430.923327     429.687291       0.799806\n",
      "   467.175562     473.531112       0.434398\n",
      "   467.148536     473.531112       0.434398\n",
      "   467.121510     473.531112       0.434398\n",
      "GW calculation took      32.86 s\n"
     ]
    }
   ],
   "source": [
    "# What if I request more qp-s and converge their energies together?\n",
    "start = time.time()\n",
    "# Analytic calculation for reference purposes\n",
    "gw_par = {'no_qp' : 1, 'nv_qp' : 29, 'nomega_sigma' : 501, 'step_sigma' : 0.01, 'gl_npoint' : 200, 'analytic_W' : True, 'low_mem' : True, 'evgw_iter' : 10 }\n",
    "gw_he_test1_ev = GW.GW_DFT(scf_wfn, he, gw_par)\n",
    "gw_he_test1_ev.print_summary()\n",
    "end = time.time()\n",
    "print(\"GW calculation took %10.2f s\" % (end - start))"
   ]
  },
  {
   "cell_type": "markdown",
   "metadata": {},
   "source": [
    "```\n",
    "MolGW reference \n",
    "\n",
    " G4W0 eigenvalues (eV)\n",
    "   #        E0         SigX-Vxc       SigC         E_qp\n",
    "   1    -15.748327    -9.371124     0.834197   -24.285254\n",
    "   2      7.474860     3.791494    -0.273177    10.993177\n",
    "\n",
    " G4W4 eigenvalues (eV)\n",
    "   #        E0         SigX-Vxc       SigC         E_qp\n",
    "   1    -15.748327    -9.371124     0.333497   -24.785955\n",
    "   2      7.474860     3.791494    -0.248823    11.017531\n",
    "\n",
    "\n",
    "\n",
    "\n",
    "```"
   ]
  }
 ],
 "metadata": {
  "kernelspec": {
   "display_name": "Python 3",
   "language": "python",
   "name": "python3"
  },
  "language_info": {
   "codemirror_mode": {
    "name": "ipython",
    "version": 3
   },
   "file_extension": ".py",
   "mimetype": "text/x-python",
   "name": "python",
   "nbconvert_exporter": "python",
   "pygments_lexer": "ipython3",
   "version": "3.6.8"
  }
 },
 "nbformat": 4,
 "nbformat_minor": 2
}
