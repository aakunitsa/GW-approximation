{
 "cells": [
  {
   "cell_type": "markdown",
   "metadata": {},
   "source": [
    "## Contour deformation \n",
    "\n",
    "In the context of GW method, contour deformation (CD) technique is used in conjunction with resolution of identity (RI) to reduce the formal scaling of the self-energy calculation. Compared to widely used analytic continuation approach it provides a means to evaluate self-energy  directly on the real axis without employing Pade approximants or non-linear least squares fit and potentially offering superior accuracy. Here, we provide a brief outline of the theory behind CD and give an example of the self-energy calculation within CD without invoking RI in order to facilitate comparison with the results prsented above. \n",
    "\n",
    "Detailed discussion of the CD can be found in the following papers:\n",
    "\n",
    "1. Golze, D., Wilhelm, J., van Setten, M. J., & Rinke, P. (2018). Core-Level Binding Energies from GW : An Efficient Full-Frequency Approach within a Localized Basis. Journal of Chemical Theory and Computation, 14(9), 4856–4869. https://doi.org/10.1021/acs.jctc.8b00458\n",
    "\n",
    "2. Giantomassi, M., Stankovski, M., Shaltaf, R., Grüning, M., Bruneval, F., Rinke, P., & Rignanese, G.-M. (2011). Electronic properties of interfaces and defects from many-body perturbation theory: Recent developments and applications. Physica Status Solidi (B), 248(2), 275–289. https://doi.org/10.1002/pssb.201046094"
   ]
  },
  {
   "cell_type": "markdown",
   "metadata": {},
   "source": [
    "CD is used to recast the convolution in the GW expression of self-energy as a difference between two integrals, one which can be performed analytically whereas the other can be evaluated numerically on a relatively small grid. This is achieved by closing the inegration contour as shown below [2]:\n",
    "\n",
    "![Integration contour used to evaluate $\\Sigma(\\omega)$](CD_scheme.jpg)\n",
    "\n",
    "$$\n",
    "\\Sigma(r_1,r_2, \\omega) = \\frac{i}{2\\pi} \\int_{-\\infty}^{+\\infty} e^{i\\omega^{\\prime} \\eta} G(r_1, r_2, \\omega + \\omega^{\\prime}) W(r_1, r_2, \\omega^{\\prime}) d\\omega^{\\prime}\\\\ \n",
    "= \\frac{i}{2\\pi} \\oint_{\\Gamma} G(r_1, r_2, \\omega + z) W(r_1, r_2, z) dz -  \\frac{1}{2\\pi} \\int_{-\\infty}^{+\\infty} G(r_1, r_2, \\omega + i\\omega^{\\prime}) W(r_1, r_2, i\\omega^{\\prime}) d\\omega^{\\prime}\n",
    "$$\n",
    "\n",
    "Depending on the $\\omega$ value the lower-left and the upper-right loops of the contour can enclose one or several poles of the zero-order Green's function whereas the poles of the screened Coulomb interaction never fall within the contour. This allowes to evaluate the countour integral as a sum of corresponding residues with apropriate signs (note that the upper-right loop is traversed counter-clockwise, while the lower-left loop is traversed clockwise). The imaginary axis contribution is calculated using Gauss-Legendre grid. Importantly, the intgrals over the arches vanish iff the screened Coulomb interaction does not contain the exchange contribution."
   ]
  },
  {
   "cell_type": "code",
   "execution_count": 1,
   "metadata": {},
   "outputs": [],
   "source": [
    "import psi4\n",
    "import numpy as np\n",
    "import scipy as sp\n",
    "from matplotlib import pyplot as plt\n",
    "%matplotlib inline"
   ]
  },
  {
   "cell_type": "code",
   "execution_count": 2,
   "metadata": {},
   "outputs": [
    {
     "data": {
      "text/html": [
       "<style>.container {width:95% !important;}</style>"
      ],
      "text/plain": [
       "<IPython.core.display.HTML object>"
      ]
     },
     "metadata": {},
     "output_type": "display_data"
    }
   ],
   "source": [
    "from IPython.core.display import display, HTML\n",
    "\n",
    "display(HTML(\"<style>.container {width:95% !important;}</style>\"))\n"
   ]
  },
  {
   "cell_type": "code",
   "execution_count": 3,
   "metadata": {},
   "outputs": [
    {
     "name": "stdout",
     "output_type": "stream",
     "text": [
      "DFT energy is  -291.7041409214\n",
      "[-1.78015161e+03 -1.37583520e+02 -9.43390440e+01 -9.43390436e+01\n",
      " -9.43390431e+01 -1.34588824e+01 -8.45064857e+00 -8.45064828e+00\n",
      " -8.45064799e+00  6.10841118e-01  6.10841192e-01  6.10841524e-01\n",
      "  1.48415008e+00  6.57736831e+00  6.57736917e+00  6.57736959e+00\n",
      "  7.81254643e+00  7.81254793e+00  9.19553485e+00  1.12297170e+01\n",
      "  1.12297176e+01  1.12297180e+01  1.49820206e+01  2.23924790e+01\n",
      "  2.23924791e+01  2.23924799e+01  3.18168512e+01  3.18168512e+01\n",
      "  3.18168512e+01  3.94598408e+01  3.94598409e+01  3.94598409e+01\n",
      "  4.47366037e+01  4.47366043e+01  4.78594674e+01  5.21424175e+01\n",
      "  5.21424181e+01  5.21424191e+01]\n"
     ]
    }
   ],
   "source": [
    "\n",
    "psi4.set_options({'basis' : 'cc-pvdz', 'd_convergence' : 1e-7,'scf_type' : 'out_of_core', 'dft_spherical_points' : 974, 'dft_radial_points' : 150 })\n",
    "\n",
    "sih4 = psi4.geometry(\"\"\"\n",
    "                       Si  0.0000  0.0000  0.0000\n",
    "                       H   0.8544 -0.8544  0.8544\n",
    "                       H  -0.8544  0.8544  0.8544\n",
    "                       H  -0.8544 -0.8544 -0.8544\n",
    "                       H   0.8544  0.8544 -0.8544\n",
    "                       symmetry c1\n",
    "                       units angstrom\n",
    "\"\"\")\n",
    "\n",
    "\n",
    "\n",
    "psi4.set_output_file('sih4_ccpvdz.out')\n",
    "\n",
    "scf_e, scf_wfn = psi4.energy('PBE', return_wfn=True)\n",
    "\n",
    "\n",
    "print(\"DFT energy is %16.10f\" % scf_e)\n",
    "epsilon = np.asarray(scf_wfn.epsilon_a())\n",
    "print(epsilon*psi4.constants.hartree2ev)"
   ]
  },
  {
   "cell_type": "markdown",
   "metadata": {},
   "source": [
    "``` SCF Total Energy (Ha):    -291.7041423085   (MOLGW) ```"
   ]
  },
  {
   "cell_type": "code",
   "execution_count": 5,
   "metadata": {},
   "outputs": [],
   "source": [
    "import GW"
   ]
  },
  {
   "cell_type": "code",
   "execution_count": 6,
   "metadata": {},
   "outputs": [
    {
     "name": "stdout",
     "output_type": "stream",
     "text": [
      "Number of basis functions:  38\n",
      "occ/virt: 9/29\n",
      "Attempting to create RI basis set for CC-PVDZ (RIFIT)... \n",
      "Auxiliary basis set has been generated!\n",
      "Number of auxiliary basis functions:  132\n",
      "Fraction of HF exchange is  0.000\n",
      "Running in production mode!\n",
      "Shape of the omega_grid_all is  (9, 501)\n",
      "Caculating GW self-energy via contour deformation\n",
      "Calculation of the integral term requires    0.057 Gb\n",
      "Calculation of the residue term requires     0.144 Gb\n",
      "Using low-memory algorithm\n",
      "Finished calculating self-energy\n",
      "Performing one-shot G0W0\n",
      "SigX - Vxc\n",
      "[-3.35157679 -1.05362364 -0.74918378 -0.74918379 -0.74918381 -0.23312109\n",
      " -0.16336648 -0.16336648 -0.16336649]\n",
      "Perfoming graphic solution of the inverse Dyson equation\n",
      "Done!\n",
      "E^lin, eV  E^graph, eV  Z \n",
      " -1837.458186   -1844.206682       0.745068\n",
      "  -150.388473    -176.635681       0.541100\n",
      "  -105.332418    -103.499110       0.811066\n",
      "  -105.357625    -103.499110       0.811066\n",
      "  -105.385443    -103.499110       0.811066\n",
      "   -16.727115     -16.367367       0.768949\n",
      "   -11.651350     -12.018382       0.881715\n",
      "   -11.773421     -12.018382       0.881715\n",
      "   -12.847189     -12.018382       0.881715\n",
      "Graphical solver printout\n",
      "State 0\n",
      "E_qp, eV   Z\n",
      " -1844.206682      0.028961\n",
      " -1798.640023      0.024270\n",
      " -1815.118295      0.013736\n",
      " -1803.767235      0.005731\n",
      "State 1\n",
      "E_qp, eV   Z\n",
      "  -176.635681      0.203433\n",
      "  -151.656223      0.196483\n",
      "  -168.963992      0.154994\n",
      "  -165.247528      0.117659\n",
      "State 2\n",
      "E_qp, eV   Z\n",
      "  -103.499110      0.287248\n",
      "  -105.075832      0.166159\n",
      "  -120.646186      0.126428\n",
      "  -132.003307      0.092328\n",
      "State 3\n",
      "E_qp, eV   Z\n",
      "  -103.499110      0.287249\n",
      "  -105.075832      0.166159\n",
      "  -120.646186      0.126428\n",
      "  -132.003307      0.092327\n",
      "State 4\n",
      "E_qp, eV   Z\n",
      "  -103.499110      0.287249\n",
      "  -105.075832      0.166159\n",
      "  -120.646185      0.126428\n",
      "  -132.003307      0.092327\n",
      "State 5\n",
      "E_qp, eV   Z\n",
      "   -16.367367      0.364457\n",
      "   -21.250910      0.148213\n",
      "   -34.904907      0.078869\n",
      "   -18.739830      0.052874\n",
      "State 6\n",
      "E_qp, eV   Z\n",
      "   -12.018382      0.456619\n",
      "   -20.463550      0.046007\n",
      "   -28.515971      0.014718\n",
      "   -33.384708      0.014541\n",
      "State 7\n",
      "E_qp, eV   Z\n",
      "   -12.018382      0.456619\n",
      "   -20.463550      0.046007\n",
      "   -28.515971      0.014718\n",
      "   -33.384708      0.014541\n",
      "State 8\n",
      "E_qp, eV   Z\n",
      "   -12.018382      0.456619\n",
      "   -20.463551      0.046007\n",
      "   -28.515971      0.014718\n",
      "   -33.384708      0.014541\n"
     ]
    }
   ],
   "source": [
    "gw_par = {'no_qp' : 9, 'nv_qp' : 0, 'nomega_sigma' : 501, 'step_sigma' : 0.01, 'gl_npoint' : 200, 'debug' : False, 'low_mem' : True }\n",
    "gw_sih4_dz_cd1 = GW.GW_DFT(scf_wfn, sih4, gw_par)\n",
    "gw_sih4_dz_cd1.print_summary()"
   ]
  },
  {
   "cell_type": "markdown",
   "metadata": {},
   "source": [
    "```\n",
    "\n",
    " GW eigenvalues (eV) RI\n",
    "   #        E0         SigX-Vxc       SigC          Z        E_qp^lin     E_qp^graph\n",
    "   1  -1780.564829   -91.201582    14.293043     0.745186 -1837.875974 -1844.625575\n",
    "   2   -137.607724   -28.671569     5.027952     0.553859  -150.702954  -151.679909\n",
    "   3    -94.335614   -20.386438     6.804644     0.811169  -105.352751  -103.499211\n",
    "   4    -94.335614   -20.386438     6.804644     0.811169  -105.352751  -103.499211\n",
    "   5    -94.335614   -20.386438     6.804644     0.811169  -105.352751  -103.499211\n",
    "   6    -13.460219    -6.343842     2.093938     0.768966   -16.728252   -16.369167\n",
    "   7     -8.451237    -4.446523     0.319568     0.881765   -12.090241   -12.020075\n",
    "   8     -8.451237    -4.446523     0.319568     0.881765   -12.090241   -12.020075\n",
    "   9     -8.451237    -4.446523     0.319568     0.881765   -12.090241   -12.020075\n",
    "\n",
    "\n",
    "```"
   ]
  },
  {
   "cell_type": "code",
   "execution_count": 7,
   "metadata": {},
   "outputs": [
    {
     "name": "stdout",
     "output_type": "stream",
     "text": [
      "Number of basis functions:  38\n",
      "occ/virt: 9/29\n",
      "Attempting to create RI basis set for CC-PVDZ (RIFIT)... \n",
      "Auxiliary basis set has been generated!\n",
      "Number of auxiliary basis functions:  132\n",
      "Fraction of HF exchange is  0.000\n",
      "Running in production mode!\n",
      "Shape of the omega_grid_all is  (9, 501)\n",
      "Caculating GW self-energy via contour deformation\n",
      "Analytic W has been requested; performing RPA calculation\n",
      "Shape of omega tensor is  (38, 38, 261)\n",
      "Calculation of the integral term requires    0.057 Gb\n",
      "Calculation of the residue term requires     5.467 Gb\n",
      "Finished calculating self-energy\n",
      "Performing one-shot G0W0\n",
      "SigX - Vxc\n",
      "[-3.35157679 -1.05362364 -0.74918378 -0.74918379 -0.74918381 -0.23312109\n",
      " -0.16336648 -0.16336648 -0.16336649]\n",
      "Perfoming graphic solution of the inverse Dyson equation\n",
      "Done!\n",
      "E^lin, eV  E^graph, eV  Z \n",
      " -1837.461131   -1844.206671       0.745068\n",
      "  -150.389764    -176.635691       0.541093\n",
      "  -105.334685    -103.499112       0.811066\n",
      "  -105.359892    -103.499112       0.811066\n",
      "  -105.387710    -103.499112       0.811066\n",
      "   -16.727515     -16.367368       0.768949\n",
      "   -11.652110     -12.018382       0.881715\n",
      "   -11.774180     -12.018382       0.881715\n",
      "   -12.847948     -12.018382       0.881715\n",
      "Graphical solver printout\n",
      "State 0\n",
      "E_qp, eV   Z\n",
      " -1844.206671      0.028959\n",
      " -1798.639998      0.024269\n",
      " -1815.118267      0.013735\n",
      " -1803.767179      0.005730\n",
      "State 1\n",
      "E_qp, eV   Z\n",
      "  -176.635691      0.203431\n",
      "  -151.656235      0.196460\n",
      "  -168.963996      0.154993\n",
      "  -165.247532      0.117659\n",
      "State 2\n",
      "E_qp, eV   Z\n",
      "  -103.499112      0.287250\n",
      "  -105.075859      0.166144\n",
      "  -120.646194      0.126427\n",
      "  -132.003332      0.092321\n",
      "State 3\n",
      "E_qp, eV   Z\n",
      "  -103.499112      0.287250\n",
      "  -105.075858      0.166144\n",
      "  -120.646194      0.126427\n",
      "  -132.003332      0.092321\n",
      "State 4\n",
      "E_qp, eV   Z\n",
      "  -103.499112      0.287251\n",
      "  -105.075858      0.166144\n",
      "  -120.646194      0.126427\n",
      "  -132.003332      0.092321\n",
      "State 5\n",
      "E_qp, eV   Z\n",
      "   -16.367368      0.364457\n",
      "   -21.250930      0.148206\n",
      "   -34.904924      0.078865\n",
      "   -18.739875      0.052860\n",
      "State 6\n",
      "E_qp, eV   Z\n",
      "   -12.018382      0.456619\n",
      "   -20.463687      0.045986\n",
      "   -28.516044      0.014707\n",
      "   -33.384796      0.014531\n",
      "State 7\n",
      "E_qp, eV   Z\n",
      "   -12.018382      0.456619\n",
      "   -20.463687      0.045986\n",
      "   -28.516043      0.014707\n",
      "   -33.384795      0.014531\n",
      "State 8\n",
      "E_qp, eV   Z\n",
      "   -12.018382      0.456619\n",
      "   -20.463687      0.045986\n",
      "   -28.516043      0.014707\n",
      "   -33.384796      0.014531\n"
     ]
    }
   ],
   "source": [
    "gw_par = {'no_qp' : 9, 'nv_qp' : 0, 'nomega_sigma' : 501, 'step_sigma' : 0.01, 'analytic_W': True, 'gl_npoint' : 200, 'debug' : False, 'low_mem' : False }\n",
    "gw_sih4_dz_cd2 = GW.GW_DFT(scf_wfn, sih4, gw_par)\n",
    "gw_sih4_dz_cd2.print_summary()"
   ]
  },
  {
   "cell_type": "markdown",
   "metadata": {},
   "source": [
    "```\n",
    "Analytic\n",
    "E^lin, eV  E^graph, eV  Z \n",
    " -1837.461131   -1844.206671       0.745068\n",
    "  -150.389764    -176.635691       0.541093\n",
    "  -105.334685    -103.499112       0.811066\n",
    "  -105.359892    -103.499112       0.811066\n",
    "  -105.387710    -103.499112       0.811066\n",
    "   -16.727515     -16.367368       0.768949\n",
    "   -11.652110     -12.018382       0.881715\n",
    "   -11.774180     -12.018382       0.881715\n",
    "   -12.847948     -12.018382       0.881715\n",
    "   \n",
    "Approximate\n",
    "E^lin, eV  E^graph, eV  Z \n",
    " -1837.458186   -1844.206682       0.745068\n",
    "  -150.388473    -176.635681       0.541100\n",
    "  -105.332418    -103.499110       0.811066\n",
    "  -105.357625    -103.499110       0.811066\n",
    "  -105.385443    -103.499110       0.811066\n",
    "   -16.727115     -16.367367       0.768949\n",
    "   -11.651350     -12.018382       0.881715\n",
    "   -11.773421     -12.018382       0.881715\n",
    "   -12.847189     -12.018382       0.881715\n",
    "   \n",
    "MOLGW reference\n",
    "  #        E0         SigX-Vxc       SigC          Z        E_qp^lin     E_qp^graph\n",
    "   1  -1780.564829   -91.201582    14.293043     0.745186 -1837.875974 -1844.625575\n",
    "   2   -137.607724   -28.671569     5.027952     0.553859  -150.702954  -151.679909\n",
    "   3    -94.335614   -20.386438     6.804644     0.811169  -105.352751  -103.499211\n",
    "   4    -94.335614   -20.386438     6.804644     0.811169  -105.352751  -103.499211\n",
    "   5    -94.335614   -20.386438     6.804644     0.811169  -105.352751  -103.499211\n",
    "   6    -13.460219    -6.343842     2.093938     0.768966   -16.728252   -16.369167\n",
    "   7     -8.451237    -4.446523     0.319568     0.881765   -12.090241   -12.020075\n",
    "   8     -8.451237    -4.446523     0.319568     0.881765   -12.090241   -12.020075\n",
    "   9     -8.451237    -4.446523     0.319568     0.881765   -12.090241   -12.020075\n",
    "```"
   ]
  },
  {
   "cell_type": "code",
   "execution_count": null,
   "metadata": {},
   "outputs": [],
   "source": []
  }
 ],
 "metadata": {
  "kernelspec": {
   "display_name": "Python 3",
   "language": "python",
   "name": "python3"
  },
  "language_info": {
   "codemirror_mode": {
    "name": "ipython",
    "version": 3
   },
   "file_extension": ".py",
   "mimetype": "text/x-python",
   "name": "python",
   "nbconvert_exporter": "python",
   "pygments_lexer": "ipython3",
   "version": "3.6.8"
  }
 },
 "nbformat": 4,
 "nbformat_minor": 2
}
