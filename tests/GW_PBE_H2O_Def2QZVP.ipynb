{
 "cells": [
  {
   "cell_type": "markdown",
   "metadata": {},
   "source": [
    "## Contour deformation \n",
    "\n",
    "In the context of GW method, contour deformation (CD) technique is used in conjunction with resolution of identity (RI) to reduce the formal scaling of the self-energy calculation. Compared to widely used analytic continuation approach it provides a means to evaluate self-energy  directly on the real axis without employing Pade approximants or non-linear least squares fit and potentially offering superior accuracy. Here, we provide a brief outline of the theory behind CD and give an example of the self-energy calculation within CD without invoking RI in order to facilitate comparison with the results prsented above. \n",
    "\n",
    "Detailed discussion of the CD can be found in the following papers:\n",
    "\n",
    "1. Golze, D., Wilhelm, J., van Setten, M. J., & Rinke, P. (2018). Core-Level Binding Energies from GW : An Efficient Full-Frequency Approach within a Localized Basis. Journal of Chemical Theory and Computation, 14(9), 4856–4869. https://doi.org/10.1021/acs.jctc.8b00458\n",
    "\n",
    "2. Giantomassi, M., Stankovski, M., Shaltaf, R., Grüning, M., Bruneval, F., Rinke, P., & Rignanese, G.-M. (2011). Electronic properties of interfaces and defects from many-body perturbation theory: Recent developments and applications. Physica Status Solidi (B), 248(2), 275–289. https://doi.org/10.1002/pssb.201046094"
   ]
  },
  {
   "cell_type": "markdown",
   "metadata": {},
   "source": [
    "CD is used to recast the convolution in the GW expression of self-energy as a difference between two integrals, one which can be performed analytically whereas the other can be evaluated numerically on a relatively small grid. This is achieved by closing the inegration contour as shown below [2]:\n",
    "\n",
    "![Integration contour used to evaluate $\\Sigma(\\omega)$](CD_scheme.jpg)\n",
    "\n",
    "$$\n",
    "\\Sigma(r_1,r_2, \\omega) = \\frac{i}{2\\pi} \\int_{-\\infty}^{+\\infty} e^{i\\omega^{\\prime} \\eta} G(r_1, r_2, \\omega + \\omega^{\\prime}) W(r_1, r_2, \\omega^{\\prime}) d\\omega^{\\prime}\\\\ \n",
    "= \\frac{i}{2\\pi} \\oint_{\\Gamma} G(r_1, r_2, \\omega + z) W(r_1, r_2, z) dz -  \\frac{1}{2\\pi} \\int_{-\\infty}^{+\\infty} G(r_1, r_2, \\omega + i\\omega^{\\prime}) W(r_1, r_2, i\\omega^{\\prime}) d\\omega^{\\prime}\n",
    "$$\n",
    "\n",
    "Depending on the $\\omega$ value the lower-left and the upper-right loops of the contour can enclose one or several poles of the zero-order Green's function whereas the poles of the screened Coulomb interaction never fall within the contour. This allowes to evaluate the countour integral as a sum of corresponding residues with apropriate signs (note that the upper-right loop is traversed counter-clockwise, while the lower-left loop is traversed clockwise). The imaginary axis contribution is calculated using Gauss-Legendre grid. Importantly, the intgrals over the arches vanish iff the screened Coulomb interaction does not contain the exchange contribution."
   ]
  },
  {
   "cell_type": "code",
   "execution_count": 1,
   "metadata": {},
   "outputs": [],
   "source": [
    "import psi4\n",
    "import numpy as np\n",
    "import scipy as sp\n",
    "from matplotlib import pyplot as plt\n",
    "%matplotlib inline"
   ]
  },
  {
   "cell_type": "code",
   "execution_count": 2,
   "metadata": {},
   "outputs": [
    {
     "data": {
      "text/html": [
       "<style>.container {width:95% !important;}</style>"
      ],
      "text/plain": [
       "<IPython.core.display.HTML object>"
      ]
     },
     "metadata": {},
     "output_type": "display_data"
    }
   ],
   "source": [
    "from IPython.core.display import display, HTML\n",
    "\n",
    "display(HTML(\"<style>.container {width:95% !important;}</style>\"))\n"
   ]
  },
  {
   "cell_type": "code",
   "execution_count": 3,
   "metadata": {},
   "outputs": [
    {
     "name": "stdout",
     "output_type": "stream",
     "text": [
      "DFT energy is   -76.3866270196\n",
      "[-5.10297553e+02 -2.52921286e+01 -1.31400617e+01 -9.24893376e+00\n",
      " -7.16265760e+00 -3.16795471e-01  1.48149608e+00  5.85933778e+00\n",
      "  6.38051010e+00  6.44543295e+00  7.31903549e+00  9.71153544e+00\n",
      "  1.14082531e+01  1.29640690e+01  1.45628573e+01  1.54214157e+01\n",
      "  1.98727673e+01  2.31113343e+01  2.38443631e+01  2.52297149e+01\n",
      "  2.61248738e+01  3.23397294e+01  3.27091864e+01  3.32373745e+01\n",
      "  3.48072652e+01  3.49994126e+01  3.63586637e+01  4.61362859e+01\n",
      "  4.87258275e+01  5.14801507e+01  5.19484109e+01  5.42548120e+01\n",
      "  5.91706652e+01  5.94636902e+01  6.05084566e+01  6.05995374e+01\n",
      "  6.29085379e+01  6.58388766e+01  6.70257969e+01  6.92465091e+01\n",
      "  6.97522471e+01  7.48082594e+01  7.67546298e+01  8.12494210e+01\n",
      "  8.21943405e+01  8.46520534e+01  9.70874427e+01  9.96835961e+01\n",
      "  1.00987494e+02  1.01312960e+02  1.06342622e+02  1.06775220e+02\n",
      "  1.10505489e+02  1.11176526e+02  1.15794184e+02  1.21753580e+02\n",
      "  1.25223234e+02  1.26631539e+02  1.37369345e+02  1.41147216e+02\n",
      "  1.41885327e+02  1.52175724e+02  1.56893089e+02  1.59546505e+02\n",
      "  1.61878867e+02  1.71034686e+02  1.73929171e+02  1.79962494e+02\n",
      "  1.88765711e+02  1.88791215e+02  1.89997207e+02  1.90886446e+02\n",
      "  1.92931093e+02  1.94770620e+02  1.95796336e+02  1.97674817e+02\n",
      "  1.98673019e+02  2.05295650e+02  2.07654437e+02  2.09319868e+02\n",
      "  2.10348474e+02  2.10876259e+02  2.14481750e+02  2.15539688e+02\n",
      "  2.22335293e+02  2.26382547e+02  2.29545845e+02  2.34006131e+02\n",
      "  2.34539209e+02  2.41363849e+02  2.42638511e+02  2.62867706e+02\n",
      "  2.63505399e+02  2.73850636e+02  2.75373617e+02  2.86887305e+02\n",
      "  2.87078069e+02  2.92697520e+02  2.96053903e+02  2.97369897e+02\n",
      "  3.02482501e+02  3.06568047e+02  3.13897613e+02  3.16097615e+02\n",
      "  3.17644207e+02  3.18193238e+02  3.26792237e+02  3.45301629e+02\n",
      "  3.62674768e+02  3.64148326e+02  3.67233872e+02  3.78542816e+02\n",
      "  3.87009516e+02  4.47770985e+02  4.48670340e+02  1.30419186e+03\n",
      "  6.87117586e+03]\n"
     ]
    }
   ],
   "source": [
    "\n",
    "psi4.set_options({'basis' : 'def2-qzvp', 'd_convergence' : 1e-7,'scf_type' : 'out_of_core', 'dft_spherical_points' : 974, 'dft_radial_points' : 150 })\n",
    "\n",
    "h2o = psi4.geometry(\"\"\"O  0.0000 0.0000 0.0000\n",
    "                       H  0.7571 0.0000 0.5861\n",
    "                       H -0.7571 0.0000 0.5861\n",
    "                       symmetry c1\n",
    "                       units angstrom\n",
    "\"\"\")\n",
    "\n",
    "\n",
    "\n",
    "psi4.set_output_file('h2o_def2-qzvp.out')\n",
    "\n",
    "scf_e, scf_wfn = psi4.energy('PBE', return_wfn=True)\n",
    "\n",
    "\n",
    "print(\"DFT energy is %16.10f\" % scf_e)\n",
    "epsilon = np.asarray(scf_wfn.epsilon_a())\n",
    "print(epsilon*psi4.constants.hartree2ev)"
   ]
  },
  {
   "cell_type": "markdown",
   "metadata": {},
   "source": [
    "``` SCF Total Energy (Ha):      -76.3866271764 (MOLGW) ```"
   ]
  },
  {
   "cell_type": "code",
   "execution_count": 4,
   "metadata": {},
   "outputs": [],
   "source": [
    "import GW"
   ]
  },
  {
   "cell_type": "code",
   "execution_count": 5,
   "metadata": {},
   "outputs": [
    {
     "name": "stdout",
     "output_type": "stream",
     "text": [
      "Number of basis functions:  117\n",
      "occ/virt: 5/112\n",
      "Attempting to create RI basis set for DEF2-QZVP (RIFIT)... \n",
      "Auxiliary basis set has been generated!\n",
      "Number of auxiliary basis functions:  253\n",
      "Fraction of HF exchange is  0.000\n",
      "Running in production mode!\n",
      "Shape of the omega_grid_all is  (5, 501)\n",
      "Caculating GW self-energy via contour deformation\n",
      "Analytic W has been requested; performing RPA calculation\n",
      "Shape of omega tensor is  (117, 117, 560)\n",
      "Calculation of the integral term requires    0.208 Gb\n",
      "Calculation of the residue term requires     0.523 Gb\n",
      "Using low-memory algorithm\n",
      "Finished calculating self-energy\n",
      "Performing one-shot G0W0\n",
      "SigX - Vxc\n",
      "[-1.79439961 -0.4279894  -0.24130434 -0.25277554 -0.2524126 ]\n",
      "Perfoming graphic solution of the inverse Dyson equation\n",
      "Done!\n",
      "Starting evGW loop...\n",
      "Number of iterations is 5\n",
      "[-538.65634941  -32.27403139  -19.28418559  -15.09093097  -12.85411774]\n",
      "[-539.99810555  -32.66311176  -19.41989935  -15.26846555  -13.0541593 ]\n",
      "[-540.03866608  -32.6703558   -19.4269423   -15.27410376  -13.05983815]\n",
      "[-540.03990831  -32.67562588  -19.42701372  -15.27426109  -13.06000972]\n",
      "[-540.04005724  -32.66957677  -19.42708031  -15.27430225  -13.0600541 ]\n",
      "Done with evGW!\n",
      "E^lin, eV  E^graph, eV  Z \n",
      "  -530.074761    -523.731793       0.697392\n",
      "   -28.012452     -29.158432       0.389625\n",
      "   -18.536989     -18.471773       0.878388\n",
      "   -14.329173     -14.171964       0.869607\n",
      "   -12.111691     -11.972673       0.869554\n",
      "GW calculation took    1012.11 s\n"
     ]
    }
   ],
   "source": [
    "# Realistic test of evGW; Purpose : study the shift of the core level\n",
    "import time \n",
    "start = time.time()\n",
    "# Analytic calculation for reference purposes\n",
    "gw_par = {'no_qp' : 5, 'nv_qp' : 0, 'nomega_sigma' : 501, 'step_sigma' : 0.01, 'gl_npoint' : 200, 'analytic_W' : True, 'low_mem' : True, 'evgw_iter' : 5 }\n",
    "gw_h2o_test_ev = GW.GW_DFT(scf_wfn, h2o, gw_par)\n",
    "gw_h2o_test_ev.print_summary()\n",
    "end = time.time()\n",
    "print(\"GW calculation took %10.2f s\" % (end - start))"
   ]
  },
  {
   "cell_type": "code",
   "execution_count": 6,
   "metadata": {},
   "outputs": [
    {
     "name": "stdout",
     "output_type": "stream",
     "text": [
      "Number of basis functions:  117\n",
      "occ/virt: 5/112\n",
      "Attempting to create RI basis set for DEF2-QZVP (RIFIT)... \n",
      "Auxiliary basis set has been generated!\n",
      "Number of auxiliary basis functions:  253\n",
      "Fraction of HF exchange is  0.000\n",
      "Running in production mode!\n",
      "Shape of the omega_grid_all is  (6, 501)\n",
      "Caculating GW self-energy via contour deformation\n",
      "Analytic W has been requested; performing RPA calculation\n",
      "Shape of omega tensor is  (117, 117, 560)\n",
      "Calculation of the integral term requires    0.208 Gb\n",
      "Calculation of the residue term requires     0.523 Gb\n",
      "Using low-memory algorithm\n",
      "Finished calculating self-energy\n",
      "Performing one-shot G0W0\n",
      "SigX - Vxc\n",
      "[-1.79439961 -0.4279894  -0.24130434 -0.25277554 -0.2524126   0.12923034]\n",
      "Perfoming graphic solution of the inverse Dyson equation\n",
      "Done!\n",
      "E^lin, eV  E^graph, eV  Z \n",
      "  -530.074761    -523.731793       0.697392\n",
      "   -28.012452     -29.158432       0.389625\n",
      "   -18.536989     -18.471773       0.878388\n",
      "   -14.329173     -14.171964       0.869607\n",
      "   -12.111691     -11.972673       0.869554\n",
      "     2.376664       2.370377       0.968496\n",
      "Graphical solver printout\n",
      "State 0\n",
      "E_qp, eV   Z\n",
      "  -523.731793      0.133380\n",
      "  -532.382682      0.120895\n",
      "  -577.058587      0.118628\n",
      "  -542.582713      0.058818\n",
      "State 1\n",
      "E_qp, eV   Z\n",
      "   -29.158432      0.137342\n",
      "   -30.517139      0.135108\n",
      "   -44.518661      0.061184\n",
      "   -36.828928      0.045530\n",
      "State 2\n",
      "E_qp, eV   Z\n",
      "   -18.471773      0.448752\n",
      "   -31.913973      0.022719\n",
      "   -41.077320      0.019187\n",
      "   -29.902759      0.012915\n",
      "State 3\n",
      "E_qp, eV   Z\n",
      "   -14.171964      0.425392\n",
      "   -18.795046      0.049710\n",
      "   -28.295612      0.037935\n",
      "   -37.440790      0.033072\n",
      "State 4\n",
      "E_qp, eV   Z\n",
      "   -11.972673      0.449118\n",
      "   -26.154077      0.042622\n",
      "   -35.327697      0.033302\n",
      "   -21.939458      0.014179\n",
      "State 5\n",
      "E_qp, eV   Z\n",
      "     2.370377      0.490824\n",
      "     0.000000     -1.000000\n",
      "     0.000000     -1.000000\n",
      "     0.000000     -1.000000\n"
     ]
    }
   ],
   "source": [
    "# Analytic calculation for reference purposes\n",
    "gw_par = {'no_qp' : 5, 'nv_qp' : 1, 'nomega_sigma' : 501, 'step_sigma' : 0.01, 'gl_npoint' : 200, 'analytic_W' : True, 'low_mem' : True }\n",
    "gw_h2o_analytic = GW.GW_DFT(scf_wfn, h2o, gw_par)\n",
    "gw_h2o_analytic.print_summary()"
   ]
  },
  {
   "cell_type": "code",
   "execution_count": 7,
   "metadata": {},
   "outputs": [
    {
     "name": "stdout",
     "output_type": "stream",
     "text": [
      "Number of basis functions:  117\n",
      "occ/virt: 5/112\n",
      "Attempting to create RI basis set for DEF2-QZVP (RIFIT)... \n",
      "Auxiliary basis set has been generated!\n",
      "Number of auxiliary basis functions:  253\n",
      "Fraction of HF exchange is  0.000\n",
      "Running in production mode!\n",
      "Shape of the omega_grid_all is  (6, 501)\n",
      "Caculating GW self-energy via contour deformation\n",
      "Calculation of the integral term requires    0.208 Gb\n",
      "Calculation of the residue term requires     0.523 Gb\n",
      "Using low-memory algorithm\n",
      "Finished calculating self-energy\n",
      "Performing one-shot G0W0\n",
      "SigX - Vxc\n",
      "[-1.79439961 -0.4279894  -0.24130434 -0.25277554 -0.2524126   0.12923034]\n",
      "Perfoming graphic solution of the inverse Dyson equation\n",
      "Done!\n",
      "E^lin, eV  E^graph, eV  Z \n",
      "  -530.069784    -523.731793       0.697392\n",
      "   -28.011997     -29.158436       0.389653\n",
      "   -18.536049     -18.471772       0.878388\n",
      "   -14.327809     -14.171969       0.869607\n",
      "   -12.110254     -11.972672       0.869554\n",
      "     2.376616       2.370377       0.968496\n",
      "Graphical solver printout\n",
      "State 0\n",
      "E_qp, eV   Z\n",
      "  -523.731793      0.133380\n",
      "  -532.382678      0.120895\n",
      "  -577.058582      0.118629\n",
      "  -542.582706      0.058819\n",
      "State 1\n",
      "E_qp, eV   Z\n",
      "   -29.158436      0.137347\n",
      "   -30.517145      0.135125\n",
      "   -44.518644      0.061187\n",
      "   -36.828588      0.045615\n",
      "State 2\n",
      "E_qp, eV   Z\n",
      "   -18.471772      0.448752\n",
      "   -31.913988      0.022728\n",
      "   -41.077265      0.019193\n",
      "   -29.902710      0.012920\n",
      "State 3\n",
      "E_qp, eV   Z\n",
      "   -14.171969      0.425447\n",
      "   -18.794751      0.049765\n",
      "   -28.295596      0.037939\n",
      "   -37.440751      0.033077\n",
      "State 4\n",
      "E_qp, eV   Z\n",
      "   -11.972672      0.449118\n",
      "   -26.154055      0.042626\n",
      "   -35.327655      0.033307\n",
      "   -21.939086      0.014206\n",
      "State 5\n",
      "E_qp, eV   Z\n",
      "     2.370377      0.490824\n",
      "     0.000000     -1.000000\n",
      "     0.000000     -1.000000\n",
      "     0.000000     -1.000000\n"
     ]
    }
   ],
   "source": [
    "# Pure RI-GW calculation with approximte W\n",
    "gw_par = {'no_qp' : 5, 'nv_qp' : 1, 'nomega_sigma' : 501, 'step_sigma' : 0.01, 'gl_npoint' : 200, 'low_mem' : True }\n",
    "gw_h2o_approx = GW.GW_DFT(scf_wfn, h2o, gw_par)\n",
    "gw_h2o_approx.print_summary()"
   ]
  },
  {
   "cell_type": "markdown",
   "metadata": {},
   "source": [
    "```\n",
    " GW eigenvalues (eV)\n",
    "   #        E0         SigX-Vxc       SigC          Z        E_qp^lin     E_qp^graph\n",
    "   1   -510.297648   -48.828757    20.486502     0.697391  -530.063286  -523.732203\n",
    "   2    -25.292133   -11.646288     4.668750     0.389748   -28.011615   -29.158555\n",
    "   3    -13.140064    -6.566253     0.425050     0.878389   -18.534428   -18.472183\n",
    "   4     -9.248936    -6.878411     1.040598     0.869607   -14.325536   -14.172236\n",
    "   5     -7.162660    -6.868523     1.181261     0.869551   -12.108024   -11.973068\n",
    "\n",
    "```"
   ]
  },
  {
   "cell_type": "code",
   "execution_count": 10,
   "metadata": {},
   "outputs": [
    {
     "name": "stdout",
     "output_type": "stream",
     "text": [
      "DFT energy is   -76.3879652627\n",
      "[-5.35099661e+02 -3.15192602e+01 -1.67817892e+01 -1.30151163e+01\n",
      " -1.09378531e+01  1.28496865e+00  2.85034591e+00  7.54731212e+00\n",
      "  8.30776851e+00  8.38731430e+00  9.64640683e+00  1.18900159e+01\n",
      "  1.35445943e+01  1.51803439e+01  1.67773608e+01  1.77168149e+01\n",
      "  2.20640019e+01  2.54799034e+01  2.60901081e+01  2.80741766e+01\n",
      "  2.92972265e+01  3.59509144e+01  3.61086742e+01  3.64168425e+01\n",
      "  3.82251283e+01  3.87110324e+01  4.02140686e+01  4.97052866e+01\n",
      "  5.21104196e+01  5.49482655e+01  5.54271955e+01  5.79110041e+01\n",
      "  6.25457277e+01  6.30977110e+01  6.40010098e+01  6.42232670e+01\n",
      "  6.62811755e+01  6.94178674e+01  7.05912057e+01  7.28745311e+01\n",
      "  7.37135403e+01  7.87702052e+01  8.09612500e+01  8.60632776e+01\n",
      "  8.61972835e+01  8.99928778e+01  1.02441206e+02  1.05453957e+02\n",
      "  1.06517270e+02  1.06899094e+02  1.11799217e+02  1.13126293e+02\n",
      "  1.16487064e+02  1.16800323e+02  1.21715307e+02  1.27371717e+02\n",
      "  1.31694415e+02  1.32620791e+02  1.45215278e+02  1.47852348e+02\n",
      "  1.47855618e+02  1.56934011e+02  1.62428677e+02  1.64245022e+02\n",
      "  1.66682927e+02  1.76511856e+02  1.79029634e+02  1.85730533e+02\n",
      "  1.93895706e+02  1.94731905e+02  1.95778395e+02  1.96530827e+02\n",
      "  1.98790270e+02  2.01457139e+02  2.02344333e+02  2.03051386e+02\n",
      "  2.05081536e+02  2.10898995e+02  2.13588912e+02  2.15020039e+02\n",
      "  2.15926581e+02  2.16616085e+02  2.19884045e+02  2.21448599e+02\n",
      "  2.28194493e+02  2.33242239e+02  2.36210059e+02  2.40704914e+02\n",
      "  2.41289532e+02  2.48550481e+02  2.49041607e+02  2.70731727e+02\n",
      "  2.71348316e+02  2.81963689e+02  2.83447598e+02  2.95273409e+02\n",
      "  2.95437088e+02  3.00987037e+02  3.04808457e+02  3.06151280e+02\n",
      "  3.11874054e+02  3.15890568e+02  3.23566246e+02  3.25315085e+02\n",
      "  3.26392971e+02  3.27745473e+02  3.36339513e+02  3.54638149e+02\n",
      "  3.72881817e+02  3.72885715e+02  3.76732725e+02  3.88105171e+02\n",
      "  3.96958005e+02  4.57502463e+02  4.58722042e+02  1.32605845e+03\n",
      "  6.92454759e+03]\n"
     ]
    }
   ],
   "source": [
    "pbeh_golze = {\n",
    "    \"name\": \"GOLZE_PBEh\",\n",
    "    \"x_functionals\": {\"GGA_X_PBE\": {\"alpha\": 0.5}},\n",
    "    \"x_hf\": {\"alpha\": 0.5},\n",
    "    \"c_functionals\": {\"GGA_C_PBE\": {}}\n",
    "}\n",
    "\n",
    "scf_e05, scf_wfn05 = psi4.energy('SCF', return_wfn=True, dft_functional=pbeh_golze)\n",
    "\n",
    "\n",
    "print(\"DFT energy is %16.10f\" % scf_e05)\n",
    "epsilon = np.asarray(scf_wfn05.epsilon_a())\n",
    "print(epsilon*psi4.constants.hartree2ev)"
   ]
  },
  {
   "cell_type": "code",
   "execution_count": 11,
   "metadata": {},
   "outputs": [
    {
     "name": "stdout",
     "output_type": "stream",
     "text": [
      "Number of basis functions:  117\n",
      "occ/virt: 5/112\n",
      "Attempting to create RI basis set for DEF2-QZVP (RIFIT)... \n",
      "Auxiliary basis set has been generated!\n",
      "Number of auxiliary basis functions:  253\n",
      "Fraction of HF exchange is  0.500\n",
      "Running in production mode!\n",
      "Shape of the omega_grid_all is  (6, 501)\n",
      "Caculating GW self-energy via contour deformation\n",
      "Calculation of the integral term requires    0.208 Gb\n",
      "Calculation of the residue term requires     0.523 Gb\n",
      "Using low-memory algorithm\n",
      "Finished calculating self-energy\n",
      "Performing one-shot G0W0\n",
      "SigX - Vxc\n",
      "[-0.88219408 -0.19095851 -0.09905819 -0.10448419 -0.10553139  0.06152926]\n",
      "Perfoming graphic solution of the inverse Dyson equation\n",
      "Done!\n",
      "E^lin, eV  E^graph, eV  Z \n",
      "  -539.410029    -539.286454       0.766774\n",
      "   -31.467220     -33.255479       0.250828\n",
      "   -19.001270     -18.990310       0.920332\n",
      "   -14.857112     -14.847909       0.910624\n",
      "   -12.643612     -12.635053       0.908849\n",
      "     2.401812       2.401319       0.983061\n",
      "Graphical solver printout\n",
      "State 0\n",
      "E_qp, eV   Z\n",
      "  -539.286454      0.419337\n",
      "  -559.967327      0.034024\n",
      "  -570.710746      0.033323\n",
      "  -557.529891      0.011820\n",
      "State 1\n",
      "E_qp, eV   Z\n",
      "   -33.255479      0.271839\n",
      "   -31.445307      0.262781\n",
      "   -68.615737      0.018419\n",
      "   -55.882623      0.016767\n",
      "State 2\n",
      "E_qp, eV   Z\n",
      "   -18.990310      0.476872\n",
      "   -40.947514      0.017524\n",
      "   -83.022591      0.008195\n",
      "   -39.053529      0.005778\n",
      "State 3\n",
      "E_qp, eV   Z\n",
      "   -14.847909      0.474622\n",
      "   -47.639870      0.017332\n",
      "   -37.405954      0.016113\n",
      "   -79.315772      0.006257\n",
      "State 4\n",
      "E_qp, eV   Z\n",
      "   -12.635053      0.474034\n",
      "   -35.265630      0.019385\n",
      "   -45.603505      0.015794\n",
      "   -66.192021      0.007134\n",
      "State 5\n",
      "E_qp, eV   Z\n",
      "     2.401319      0.495519\n",
      "     0.000000     -1.000000\n",
      "     0.000000     -1.000000\n",
      "     0.000000     -1.000000\n"
     ]
    }
   ],
   "source": [
    "# Pure RI-GW calculation with approximte W\n",
    "gw_par = {'no_qp' : 5, 'nv_qp' : 1, 'nomega_sigma' : 501, 'step_sigma' : 0.01, 'gl_npoint' : 200, 'low_mem' : True }\n",
    "gw_h2o_pbeh = GW.GW_DFT(scf_wfn05, h2o, gw_par)\n",
    "gw_h2o_pbeh.print_summary()"
   ]
  },
  {
   "cell_type": "code",
   "execution_count": 24,
   "metadata": {},
   "outputs": [
    {
     "name": "stdout",
     "output_type": "stream",
     "text": [
      "DFT energy is   -76.3863757868\n",
      "[-5.22688641e+02 -2.83904076e+01 -1.49509650e+01 -1.11180194e+01\n",
      " -9.03267815e+00  5.08596448e-01  2.20546513e+00  6.71692349e+00\n",
      "  7.38984271e+00  7.39644203e+00  8.49053863e+00  1.07981176e+01\n",
      "  1.24806039e+01  1.40769203e+01  1.56750264e+01  1.65761589e+01\n",
      "  2.09746381e+01  2.43018000e+01  2.49959378e+01  2.66324933e+01\n",
      "  2.77157884e+01  3.42255990e+01  3.43415480e+01  3.48338550e+01\n",
      "  3.66187883e+01  3.67594931e+01  3.82841827e+01  4.79261397e+01\n",
      "  5.04242230e+01  5.32193834e+01  5.36942745e+01  5.60937465e+01\n",
      "  6.08686724e+01  6.12944272e+01  6.23106779e+01  6.23732988e+01\n",
      "  6.46015730e+01  6.76480068e+01  6.88296198e+01  7.10628437e+01\n",
      "  7.17318892e+01  7.67935587e+01  7.88586089e+01  8.36556149e+01\n",
      "  8.41878685e+01  8.73172015e+01  9.97705962e+01  1.02575222e+02\n",
      "  1.03756395e+02  1.04108070e+02  1.09077332e+02  1.09957322e+02\n",
      "  1.13499988e+02  1.13988658e+02  1.18761256e+02  1.24559798e+02\n",
      "  1.28455230e+02  1.29616396e+02  1.41284705e+02  1.44515949e+02\n",
      "  1.44893368e+02  1.54553391e+02  1.59651949e+02  1.61900479e+02\n",
      "  1.64280997e+02  1.73775998e+02  1.76488243e+02  1.82853634e+02\n",
      "  1.91342702e+02  1.91803448e+02  1.92907593e+02  1.93725561e+02\n",
      "  1.95883802e+02  1.98101268e+02  1.99155396e+02  2.00356840e+02\n",
      "  2.01810989e+02  2.08092320e+02  2.10615906e+02  2.12167623e+02\n",
      "  2.13136041e+02  2.13743807e+02  2.17185678e+02  2.18490266e+02\n",
      "  2.25268462e+02  2.29806561e+02  2.32880126e+02  2.37363260e+02\n",
      "  2.37915441e+02  2.44956549e+02  2.45831853e+02  2.66801056e+02\n",
      "  2.67424556e+02  2.77908079e+02  2.79411375e+02  2.91079647e+02\n",
      "  2.91261219e+02  2.96840934e+02  3.00437436e+02  3.01765965e+02\n",
      "  3.07175912e+02  3.11232671e+02  3.18735509e+02  3.20714587e+02\n",
      "  3.22020283e+02  3.22972033e+02  3.31565676e+02  3.49975892e+02\n",
      "  3.67780831e+02  3.68514386e+02  3.71980716e+02  3.83323172e+02\n",
      "  3.91984554e+02  4.52638687e+02  4.53699929e+02  1.31513099e+03\n",
      "  6.89786267e+03]\n"
     ]
    }
   ],
   "source": [
    "scf_e025, scf_wfn025 = psi4.energy('PBE0', return_wfn=True)\n",
    "\n",
    "\n",
    "print(\"DFT energy is %16.10f\" % scf_e025)\n",
    "epsilon = np.asarray(scf_wfn025.epsilon_a())\n",
    "print(epsilon*psi4.constants.hartree2ev)"
   ]
  },
  {
   "cell_type": "code",
   "execution_count": 25,
   "metadata": {},
   "outputs": [
    {
     "name": "stdout",
     "output_type": "stream",
     "text": [
      "Number of basis functions:  117\n",
      "occ/virt: 5/112\n",
      "Attempting to create RI basis set for DEF2-QZVP (RIFIT)... \n",
      "Auxiliary basis set has been generated!\n",
      "Number of auxiliary basis functions:  253\n",
      "Fraction of HF exchange is  0.250\n",
      "Running in production mode!\n",
      "Shape of the omega_grid_all is  (6, 501)\n",
      "Caculating GW self-energy via contour deformation\n",
      "Calculation of the integral term requires    0.208 Gb\n",
      "Calculation of the residue term requires     0.523 Gb\n",
      "Using low-memory algorithm\n",
      "Finished calculating self-energy\n",
      "Performing one-shot G0W0\n",
      "SigX - Vxc\n",
      "[-1.33867161 -0.31017428 -0.17056488 -0.17893952 -0.17964684  0.09343465]\n",
      "Perfoming graphic solution of the inverse Dyson equation\n",
      "Done!\n",
      "E^lin, eV  E^graph, eV  Z \n",
      "  -535.226115    -533.450692       0.735443\n",
      "   -28.390408     -31.718815       0.000000\n",
      "   -18.836346     -18.777118       0.904037\n",
      "   -14.644838     -14.601336       0.893170\n",
      "   -12.428168     -12.386730       0.891960\n",
      "     2.379450       2.377546       0.977248\n",
      "Graphical solver printout\n",
      "State 0\n",
      "E_qp, eV   Z\n",
      "  -533.450692      0.310939\n",
      "  -535.041123      0.080569\n",
      "  -555.929584      0.080160\n",
      "  -545.585933      0.066480\n",
      "State 1\n",
      "E_qp, eV   Z\n",
      "   -31.718815      0.343493\n",
      "   -34.578890      0.056045\n",
      "   -40.908914      0.044762\n",
      "   -50.071835      0.028824\n",
      "State 2\n",
      "E_qp, eV   Z\n",
      "   -18.777118      0.463498\n",
      "   -36.400077      0.014389\n",
      "   -46.158158      0.013348\n",
      "   -54.143186      0.009167\n",
      "State 3\n",
      "E_qp, eV   Z\n",
      "   -14.601336      0.465530\n",
      "   -32.766573      0.029769\n",
      "   -42.446785      0.028426\n",
      "   -62.828578      0.009396\n",
      "State 4\n",
      "E_qp, eV   Z\n",
      "   -12.386730      0.465037\n",
      "   -30.610063      0.034346\n",
      "   -40.377150      0.027237\n",
      "   -71.403622      0.012442\n",
      "State 5\n",
      "E_qp, eV   Z\n",
      "     2.377546      0.493776\n",
      "     0.000000     -1.000000\n",
      "     0.000000     -1.000000\n",
      "     0.000000     -1.000000\n"
     ]
    }
   ],
   "source": [
    "gw_par = {'no_qp' : 5, 'nv_qp' : 1, 'nomega_sigma' : 501, 'step_sigma' : 0.01, 'gl_npoint' : 200, 'low_mem' : True }\n",
    "gw_h2o_pbeh25 = GW.GW_DFT(scf_wfn025, h2o, gw_par)\n",
    "gw_h2o_pbeh25.print_summary()"
   ]
  },
  {
   "cell_type": "code",
   "execution_count": 13,
   "metadata": {},
   "outputs": [
    {
     "data": {
      "image/png": "[encoded data removed]",
      "text/plain": [
       "<Figure size 600x600 with 2 Axes>"
      ]
     },
     "metadata": {
      "needs_background": "light"
     },
     "output_type": "display_data"
    }
   ],
   "source": [
    "eps = gw_h2o_pbeh.eps\n",
    "nocc = gw_h2o_pbeh.nocc\n",
    "no_qp = gw_h2o_pbeh.no_qp\n",
    "nv_qp = gw_h2o_pbeh.nv_qp\n",
    "\n",
    "\n",
    "\n",
    "fig, axes = plt.subplots(nrows=2, figsize=(6,6), dpi=100)\n",
    "\n",
    "for state in range(2):\n",
    "    grid = gw_h2o_pbeh.omega_grid_all[state,:]*psi4.constants.hartree2ev\n",
    "    sigma = gw_h2o_pbeh.Sigma_c_grid[state,:].real*psi4.constants.hartree2ev\n",
    "    l = grid - (eps[state] + gw_h2o_pbeh.Sigma_x_Vxc[state])*psi4.constants.hartree2ev\n",
    "    axes[state].plot(grid, sigma, label = '$\\Sigma_c(\\omega)$ (st. {0:d})'.format(state))\n",
    "    axes[state].plot(grid, l, '--', label = '$\\omega - \\epsilon$ (st. {0:d})'.format(state))\n",
    "    axes[state].set_xlabel('$\\omega$, eV')\n",
    "    axes[state].set_ylabel('$\\Sigma_c$, eV')\n",
    "    axes[state].legend()\n",
    "    \n",
    "fig.tight_layout()    \n"
   ]
  },
  {
   "cell_type": "code",
   "execution_count": 37,
   "metadata": {},
   "outputs": [
    {
     "data": {
      "text/plain": [
       "<Figure size 1800x3000 with 0 Axes>"
      ]
     },
     "execution_count": 37,
     "metadata": {},
     "output_type": "execute_result"
    },
    {
     "data": {
      "image/png": "[encoded data removed]",
      "text/plain": [
       "<Figure size 432x288 with 1 Axes>"
      ]
     },
     "metadata": {
      "needs_background": "light"
     },
     "output_type": "display_data"
    },
    {
     "data": {
      "text/plain": [
       "<Figure size 1800x3000 with 0 Axes>"
      ]
     },
     "metadata": {},
     "output_type": "display_data"
    }
   ],
   "source": [
    "eps0 = gw_h2o_approx.eps\n",
    "eps1 = gw_h2o_pbeh.eps\n",
    "eps2 = gw_h2o_pbeh25.eps\n",
    "nocc = gw_h2o_approx.nocc\n",
    "state = 0\n",
    "\n",
    "\n",
    "#grid0 =gw_h2o_approx.omega_grid_all[state,:]*psi4.constants.hartree2ev\n",
    "#sigma0 = gw_h2o_approx.Sigma_c_grid[state,:].real*psi4.constants.hartree2ev\n",
    "grid1 =gw_h2o_pbeh.omega_grid_all[state,:]*psi4.constants.hartree2ev\n",
    "sigma1 = gw_h2o_pbeh.Sigma_c_grid[state,:].real*psi4.constants.hartree2ev\n",
    "grid2 =gw_h2o_pbeh25.omega_grid_all[state,:]*psi4.constants.hartree2ev\n",
    "sigma2 = gw_h2o_pbeh25.Sigma_c_grid[state,:].real*psi4.constants.hartree2ev\n",
    "#l0 = grid0 - (eps0[state] + gw_h2o_approx.Sigma_x_Vxc[state])*psi4.constants.hartree2ev\n",
    "l1 = grid1 - (eps1[state] + gw_h2o_pbeh.Sigma_x_Vxc[state])*psi4.constants.hartree2ev\n",
    "#l2 = grid2 - (eps2[state] + gw_h2o_pbeh25.Sigma_x_Vxc[state])*psi4.constants.hartree2ev\n",
    "#plt.plot(grid0, sigma0, label = '$\\Sigma_c(\\omega)$, PBE (st. {0:d})'.format(state))\n",
    "plt.plot(grid1, sigma1, label = '$\\Sigma_c(\\omega)$, PBEh(0.5) (st. {0:d})'.format(state))\n",
    "#plt.plot(grid2, sigma2, label = '$\\Sigma_c(\\omega)$, PBEh(0.25) (st. {0:d})'.format(state))\n",
    "#plt.plot(grid0, l0, '--', label = '$\\omega - \\epsilon$ PBE (st. {0:d})'.format(state))\n",
    "plt.plot(grid1, l1, '--', label = '$\\omega - \\epsilon$ PBEh(0.5) (st. {0:d})'.format(state))\n",
    "#plt.plot(grid2, l2, '--', label = '$\\omega - \\epsilon$ PBEh(0.25) (st. {0:d})'.format(state))\n",
    "plt.xlabel('$\\omega$, eV')\n",
    "plt.ylabel('$\\Sigma_c$, eV')\n",
    "plt.xlim([-610., -480.])\n",
    "plt.ylim([-300., 300.])\n",
    "plt.legend()\n",
    "plt.figure(figsize=(6,10), dpi=300)    \n",
    "\n"
   ]
  },
  {
   "cell_type": "code",
   "execution_count": null,
   "metadata": {},
   "outputs": [],
   "source": []
  }
 ],
 "metadata": {
  "kernelspec": {
   "display_name": "Python 3",
   "language": "python",
   "name": "python3"
  },
  "language_info": {
   "codemirror_mode": {
    "name": "ipython",
    "version": 3
   },
   "file_extension": ".py",
   "mimetype": "text/x-python",
   "name": "python",
   "nbconvert_exporter": "python",
   "pygments_lexer": "ipython3",
   "version": "3.6.8"
  }
 },
 "nbformat": 4,
 "nbformat_minor": 2
}
