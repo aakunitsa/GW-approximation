{
 "cells": [
  {
   "cell_type": "markdown",
   "metadata": {},
   "source": [
    "## Contour deformation \n",
    "\n",
    "In the context of GW method, contour deformation (CD) technique is used in conjunction with resolution of identity (RI) to reduce the formal scaling of the self-energy calculation. Compared to widely used analytic continuation approach it provides a means to evaluate self-energy  directly on the real axis without employing Pade approximants or non-linear least squares fit and potentially offering superior accuracy. Here, we provide a brief outline of the theory behind CD and give an example of the self-energy calculation within CD without invoking RI in order to facilitate comparison with the results prsented above. \n",
    "\n",
    "Detailed discussion of the CD can be found in the following papers:\n",
    "\n",
    "1. Golze, D., Wilhelm, J., van Setten, M. J., & Rinke, P. (2018). Core-Level Binding Energies from GW : An Efficient Full-Frequency Approach within a Localized Basis. Journal of Chemical Theory and Computation, 14(9), 4856–4869. https://doi.org/10.1021/acs.jctc.8b00458\n",
    "\n",
    "2. Giantomassi, M., Stankovski, M., Shaltaf, R., Grüning, M., Bruneval, F., Rinke, P., & Rignanese, G.-M. (2011). Electronic properties of interfaces and defects from many-body perturbation theory: Recent developments and applications. Physica Status Solidi (B), 248(2), 275–289. https://doi.org/10.1002/pssb.201046094"
   ]
  },
  {
   "cell_type": "markdown",
   "metadata": {},
   "source": [
    "CD is used to recast the convolution in the GW expression of self-energy as a difference between two integrals, one which can be performed analytically whereas the other can be evaluated numerically on a relatively small grid. This is achieved by closing the inegration contour as shown below [2]:\n",
    "\n",
    "![Integration contour used to evaluate $\\Sigma(\\omega)$](CD_scheme.jpg)\n",
    "\n",
    "$$\n",
    "\\Sigma(r_1,r_2, \\omega) = \\frac{i}{2\\pi} \\int_{-\\infty}^{+\\infty} e^{i\\omega^{\\prime} \\eta} G(r_1, r_2, \\omega + \\omega^{\\prime}) W(r_1, r_2, \\omega^{\\prime}) d\\omega^{\\prime}\\\\ \n",
    "= \\frac{i}{2\\pi} \\oint_{\\Gamma} G(r_1, r_2, \\omega + z) W(r_1, r_2, z) dz -  \\frac{1}{2\\pi} \\int_{-\\infty}^{+\\infty} G(r_1, r_2, \\omega + i\\omega^{\\prime}) W(r_1, r_2, i\\omega^{\\prime}) d\\omega^{\\prime}\n",
    "$$\n",
    "\n",
    "Depending on the $\\omega$ value the lower-left and the upper-right loops of the contour can enclose one or several poles of the zero-order Green's function whereas the poles of the screened Coulomb interaction never fall within the contour. This allowes to evaluate the countour integral as a sum of corresponding residues with apropriate signs (note that the upper-right loop is traversed counter-clockwise, while the lower-left loop is traversed clockwise). The imaginary axis contribution is calculated using Gauss-Legendre grid. Importantly, the intgrals over the arches vanish iff the screened Coulomb interaction does not contain the exchange contribution."
   ]
  },
  {
   "cell_type": "code",
   "execution_count": 1,
   "metadata": {},
   "outputs": [],
   "source": [
    "import psi4\n",
    "import numpy as np\n",
    "import scipy as sp\n",
    "from matplotlib import pyplot as plt\n",
    "%matplotlib inline"
   ]
  },
  {
   "cell_type": "code",
   "execution_count": 2,
   "metadata": {},
   "outputs": [
    {
     "data": {
      "text/html": [
       "<style>.container {width:95% !important;}</style>"
      ],
      "text/plain": [
       "<IPython.core.display.HTML object>"
      ]
     },
     "metadata": {},
     "output_type": "display_data"
    }
   ],
   "source": [
    "from IPython.core.display import display, HTML\n",
    "\n",
    "display(HTML(\"<style>.container {width:95% !important;}</style>\"))\n"
   ]
  },
  {
   "cell_type": "code",
   "execution_count": 3,
   "metadata": {},
   "outputs": [
    {
     "name": "stdout",
     "output_type": "stream",
     "text": [
      "DFT energy is   -77.2219432464\n",
      "[-2.69464960e+02 -2.69411046e+02 -1.84233883e+01 -1.39147735e+01\n",
      " -1.19976372e+01 -6.91544348e+00 -6.91544341e+00  1.94673225e-01\n",
      "  1.94673281e-01  1.59118764e+00  2.45849985e+00  7.74384399e+00\n",
      "  8.70052518e+00  1.16925914e+01  1.16925914e+01  1.47597104e+01\n",
      "  1.47597105e+01  1.75798680e+01  1.96350562e+01  2.31515682e+01\n",
      "  2.53626617e+01  2.53626617e+01  2.64280795e+01  2.64280796e+01\n",
      "  2.77027593e+01  3.27987290e+01  3.60796171e+01  3.60796172e+01\n",
      "  3.68037399e+01  3.68037400e+01  4.71420823e+01  4.71420823e+01\n",
      "  4.96327852e+01  5.82212395e+01  6.32069231e+01  6.32069232e+01\n",
      "  7.69820798e+01  8.95698018e+01]\n"
     ]
    }
   ],
   "source": [
    "\n",
    "psi4.set_options({'basis' : 'cc-pvdz', 'd_convergence' : 1e-7,'scf_type' : 'out_of_core', 'dft_spherical_points' : 974, 'dft_radial_points' : 150 })\n",
    "\n",
    "c2h2 = psi4.geometry(\"\"\"\n",
    "C 0.0000 0.0000  0.6015\n",
    "C 0.0000 0.0000 -0.6015\n",
    "H 0.0000 0.0000  1.6615\n",
    "H 0.0000 0.0000 -1.6615\n",
    "                       symmetry c1\n",
    "                       units angstrom\n",
    "\"\"\")\n",
    "\n",
    "\n",
    "\n",
    "psi4.set_output_file('c2h2_ccpvdz.out')\n",
    "\n",
    "scf_e, scf_wfn = psi4.energy('PBE', return_wfn=True)\n",
    "\n",
    "\n",
    "print(\"DFT energy is %16.10f\" % scf_e)\n",
    "epsilon = np.asarray(scf_wfn.epsilon_a())\n",
    "print(epsilon*psi4.constants.hartree2ev)"
   ]
  },
  {
   "cell_type": "markdown",
   "metadata": {},
   "source": [
    "``` SCF Total Energy (Ha):    -77.2219432068   (MOLGW) ```"
   ]
  },
  {
   "cell_type": "code",
   "execution_count": 4,
   "metadata": {},
   "outputs": [],
   "source": [
    "import GW"
   ]
  },
  {
   "cell_type": "code",
   "execution_count": 5,
   "metadata": {},
   "outputs": [
    {
     "name": "stdout",
     "output_type": "stream",
     "text": [
      "Number of basis functions:  38\n",
      "occ/virt: 7/31\n",
      "Attempting to create RI basis set for CC-PVDZ (RIFIT)... \n",
      "Auxiliary basis set has been generated!\n",
      "Number of auxiliary basis functions:  140\n",
      "Fraction of HF exchange is  0.000\n",
      "Running in production mode!\n",
      "Shape of the omega_grid_all is  (7, 501)\n",
      "Caculating GW self-energy via contour deformation\n",
      "Calculation of the integral term requires    0.064 Gb\n",
      "Calculation of the residue term requires     0.161 Gb\n",
      "Using low-memory algorithm\n",
      "Finished calculating self-energy\n",
      "Performing one-shot G0W0\n",
      "SigX - Vxc\n",
      "[-1.30324394 -1.3013649  -0.33389783 -0.23717777 -0.21572427 -0.14005357\n",
      " -0.14005358]\n",
      "Perfoming graphic solution of the inverse Dyson equation\n",
      "Done!\n",
      "E^lin, eV  E^graph, eV  Z \n",
      "  -286.587831    -326.503140       0.724323\n",
      "  -286.548967    -326.475725       0.725630\n",
      "   -22.168472     -21.436808       0.740752\n",
      "   -17.660116     -17.728666       0.797120\n",
      "   -16.125265     -15.984765       0.873439\n",
      "   -10.631349     -10.639259       0.897342\n",
      "   -10.679617     -10.639259       0.897342\n",
      "Graphical solver printout\n",
      "State 0\n",
      "E_qp, eV   Z\n",
      "  -326.503140      0.121144\n",
      "  -284.854118      0.105146\n",
      "  -280.277774      0.104398\n",
      "  -325.029013      0.065408\n",
      "State 1\n",
      "E_qp, eV   Z\n",
      "  -326.475725      0.119961\n",
      "  -284.812804      0.104974\n",
      "  -280.313351      0.082529\n",
      "  -287.155389      0.071670\n",
      "State 2\n",
      "E_qp, eV   Z\n",
      "   -21.436808      0.231066\n",
      "   -26.670675      0.141150\n",
      "   -22.762734      0.090843\n",
      "   -24.363484      0.084601\n",
      "State 3\n",
      "E_qp, eV   Z\n",
      "   -17.728666      0.404412\n",
      "   -19.924777      0.085970\n",
      "   -24.638995      0.073742\n",
      "   -37.870395      0.043024\n",
      "State 4\n",
      "E_qp, eV   Z\n",
      "   -15.984765      0.430187\n",
      "   -26.314549      0.028305\n",
      "   -41.711488      0.024972\n",
      "   -35.187273      0.023637\n",
      "State 5\n",
      "E_qp, eV   Z\n",
      "   -10.639259      0.470426\n",
      "   -46.697492      0.011707\n",
      "   -42.608447      0.011466\n",
      "   -23.969774      0.009571\n",
      "State 6\n",
      "E_qp, eV   Z\n",
      "   -10.639259      0.470426\n",
      "   -46.697492      0.011707\n",
      "   -42.608447      0.011466\n",
      "   -23.969774      0.009571\n"
     ]
    }
   ],
   "source": [
    "gw_par = {'no_qp' : 7, 'nv_qp' : 0, 'nomega_sigma' : 501, 'step_sigma' : 0.01, 'gl_npoint' : 200, 'low_mem' : True }\n",
    "gw_c2h2_dz_cd1 = GW.GW_DFT(scf_wfn, c2h2, gw_par)\n",
    "gw_c2h2_dz_cd1.print_summary()"
   ]
  },
  {
   "cell_type": "markdown",
   "metadata": {},
   "source": [
    "```\n",
    " GW eigenvalues (eV) RI\n",
    "   #        E0         SigX-Vxc       SigC          Z        E_qp^lin     E_qp^graph\n",
    "   1   -269.503377   -35.463486    11.828217     0.724328  -286.623075  -326.542284\n",
    "   2   -269.449587   -35.412335    11.798952     0.725633  -286.584227  -326.514902\n",
    "   3    -18.425273    -9.085843     4.032739     0.740744   -22.168328   -21.438530\n",
    "   4    -13.915903    -6.453950     1.756727     0.797034   -17.659749   -17.729721\n",
    "   5    -11.997810    -5.869987     1.145594     0.873449   -16.124327   -15.984958\n",
    "   6     -6.915552    -3.811111    -0.355345     0.897341   -10.654285   -10.639366\n",
    "   7     -6.915552    -3.811111    -0.355345     0.897341   -10.654285   -10.639366\n",
    "\n",
    "```"
   ]
  },
  {
   "cell_type": "code",
   "execution_count": 6,
   "metadata": {},
   "outputs": [
    {
     "name": "stdout",
     "output_type": "stream",
     "text": [
      "Number of basis functions:  38\n",
      "occ/virt: 7/31\n",
      "Attempting to create RI basis set for CC-PVDZ (RIFIT)... \n",
      "Auxiliary basis set has been generated!\n",
      "Number of auxiliary basis functions:  140\n",
      "Fraction of HF exchange is  0.000\n",
      "Running in production mode!\n",
      "Shape of the omega_grid_all is  (7, 501)\n",
      "Caculating GW self-energy via contour deformation\n",
      "Analytic W has been requested; performing RPA calculation\n",
      "Shape of omega tensor is  (38, 38, 217)\n",
      "Calculation of the integral term requires    0.064 Gb\n",
      "Calculation of the residue term requires     6.103 Gb\n",
      "Finished calculating self-energy\n",
      "Performing one-shot G0W0\n",
      "SigX - Vxc\n",
      "[-1.30324394 -1.3013649  -0.33389783 -0.23717777 -0.21572427 -0.14005357\n",
      " -0.14005358]\n",
      "Perfoming graphic solution of the inverse Dyson equation\n",
      "Done!\n",
      "E^lin, eV  E^graph, eV  Z \n",
      "  -286.589767    -326.503147       0.724323\n",
      "  -286.550907    -326.475732       0.725630\n",
      "   -22.169264     -21.436806       0.740752\n",
      "   -17.660393     -17.728667       0.797120\n",
      "   -16.125682     -15.984765       0.873439\n",
      "   -10.631926     -10.639259       0.897342\n",
      "   -10.680195     -10.639259       0.897342\n",
      "Graphical solver printout\n",
      "State 0\n",
      "E_qp, eV   Z\n",
      "  -326.503147      0.121142\n",
      "  -284.854126      0.105143\n",
      "  -280.277694      0.104381\n",
      "  -325.029015      0.065406\n",
      "State 1\n",
      "E_qp, eV   Z\n",
      "  -326.475732      0.119959\n",
      "  -284.812812      0.104972\n",
      "  -280.313295      0.082508\n",
      "  -287.155418      0.071664\n",
      "State 2\n",
      "E_qp, eV   Z\n",
      "   -21.436806      0.231063\n",
      "   -26.670790      0.141110\n",
      "   -22.762739      0.090831\n",
      "   -24.363492      0.084589\n",
      "State 3\n",
      "E_qp, eV   Z\n",
      "   -17.728667      0.404412\n",
      "   -19.924930      0.085923\n",
      "   -24.639164      0.073703\n",
      "   -37.870460      0.043017\n",
      "State 4\n",
      "E_qp, eV   Z\n",
      "   -15.984765      0.430187\n",
      "   -26.314850      0.028251\n",
      "   -41.711685      0.024973\n",
      "   -35.187337      0.023631\n",
      "State 5\n",
      "E_qp, eV   Z\n",
      "   -10.639259      0.470426\n",
      "   -46.697637      0.011700\n",
      "   -42.608655      0.011456\n",
      "   -23.970447      0.009500\n",
      "State 6\n",
      "E_qp, eV   Z\n",
      "   -10.639259      0.470426\n",
      "   -46.697637      0.011700\n",
      "   -42.608655      0.011456\n",
      "   -23.970447      0.009500\n"
     ]
    }
   ],
   "source": [
    "gw_par = {'no_qp' : 7, 'nv_qp' : 0, 'nomega_sigma' : 501, 'step_sigma' : 0.01,  'analytic_W': True, 'gl_npoint' : 200, 'debug' : False, 'low_mem' : False }\n",
    "gw_c2h2_dz_cd2 = GW.GW_DFT(scf_wfn, c2h2, gw_par)\n",
    "gw_c2h2_dz_cd2.print_summary()"
   ]
  },
  {
   "cell_type": "markdown",
   "metadata": {},
   "source": [
    "```\n",
    "Analytic vs approximate W (contour deformation algorithm)\n",
    "\n",
    "Analytic\n",
    "E^lin, eV  E^graph, eV  Z \n",
    "  -286.589767    -326.503147       0.724323\n",
    "  -286.550907    -326.475732       0.725630\n",
    "   -22.169264     -21.436806       0.740752\n",
    "   -17.660393     -17.728667       0.797120\n",
    "   -16.125682     -15.984765       0.873439\n",
    "   -10.631926     -10.639259       0.897342\n",
    "   -10.680195     -10.639259       0.897342\n",
    "   \n",
    "Approximate\n",
    "E^lin, eV  E^graph, eV  Z \n",
    "  -286.587831    -326.503140       0.724323\n",
    "  -286.548967    -326.475725       0.725630\n",
    "   -22.168472     -21.436808       0.740752\n",
    "   -17.660116     -17.728666       0.797120\n",
    "   -16.125265     -15.984765       0.873439\n",
    "   -10.631349     -10.639259       0.897342\n",
    "   -10.679617     -10.639259       0.897342\n",
    "   \n",
    "MOLGW reference\n",
    "GW eigenvalues (eV)\n",
    "   #        E0         SigX-Vxc       SigC          Z        E_qp^lin     E_qp^graph\n",
    "   1   -269.503377   -35.463486    11.828217     0.724328  -286.623075  -326.542284\n",
    "   2   -269.449587   -35.412335    11.798952     0.725633  -286.584227  -326.514902\n",
    "   3    -18.425273    -9.085843     4.032739     0.740744   -22.168328   -21.438530\n",
    "   4    -13.915903    -6.453950     1.756727     0.797034   -17.659749   -17.729721\n",
    "   5    -11.997810    -5.869987     1.145594     0.873449   -16.124327   -15.984958\n",
    "   6     -6.915552    -3.811111    -0.355345     0.897341   -10.654285   -10.639366\n",
    "   7     -6.915552    -3.811111    -0.355345     0.897341   -10.654285   -10.639366\n",
    "\n",
    "```"
   ]
  },
  {
   "cell_type": "code",
   "execution_count": null,
   "metadata": {},
   "outputs": [],
   "source": []
  }
 ],
 "metadata": {
  "kernelspec": {
   "display_name": "Python 3",
   "language": "python",
   "name": "python3"
  },
  "language_info": {
   "codemirror_mode": {
    "name": "ipython",
    "version": 3
   },
   "file_extension": ".py",
   "mimetype": "text/x-python",
   "name": "python",
   "nbconvert_exporter": "python",
   "pygments_lexer": "ipython3",
   "version": "3.6.8"
  }
 },
 "nbformat": 4,
 "nbformat_minor": 2
}
